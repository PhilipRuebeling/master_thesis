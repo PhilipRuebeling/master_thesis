{
  "nbformat": 4,
  "nbformat_minor": 0,
  "metadata": {
    "colab": {
      "name": "photonic_devices.ipynb",
      "provenance": [],
      "collapsed_sections": [],
      "toc_visible": true,
      "authorship_tag": "ABX9TyNj2i6FrqIsMZ2EQ7LMuCEp",
      "include_colab_link": true
    },
    "kernelspec": {
      "name": "python3",
      "display_name": "Python 3"
    }
  },
  "cells": [
    {
      "cell_type": "markdown",
      "metadata": {
        "id": "view-in-github",
        "colab_type": "text"
      },
      "source": [
        "<a href=\"https://colab.research.google.com/github/PhilipRuebeling/master_thesis/blob/main/photonic_devices.ipynb\" target=\"_parent\"><img src=\"https://colab.research.google.com/assets/colab-badge.svg\" alt=\"Open In Colab\"/></a>"
      ]
    },
    {
      "cell_type": "markdown",
      "metadata": {
        "id": "2CNaETzk-Ubt"
      },
      "source": [
        "$$\\newcommand{\\ket}[1]{\\left|{#1}\\right\\rangle}\\newcommand{\\bra}[1]{\\left\\langle\n",
        "{#1}\\right|}$$"
      ]
    },
    {
      "cell_type": "code",
      "metadata": {
        "id": "nxUQfF3g580A"
      },
      "source": [
        "%pip install pyswarms\n",
        "%pip install fst-pso"
      ],
      "execution_count": null,
      "outputs": []
    },
    {
      "cell_type": "code",
      "metadata": {
        "id": "65drSZ8byEkA"
      },
      "source": [
        "import numpy as np\n",
        "import fstpso as fp"
      ],
      "execution_count": null,
      "outputs": []
    },
    {
      "cell_type": "markdown",
      "metadata": {
        "id": "iP3LmPjvcSqO"
      },
      "source": [
        "# Quantum Frequency Processor (QFP) with coherent states"
      ]
    },
    {
      "cell_type": "markdown",
      "metadata": {
        "id": "MySYr1Of8OH4"
      },
      "source": [
        "We can use coherent states to operate our QFP. This can be easily achieved by noting, that for a coherent state $\\ket{\\alpha} = D(\\alpha)\\ket{vac}$, where the displacement operator is defined by $D(\\alpha) = \\exp (\\sum_{r} \\alpha_{r} a^{\\dagger}_{r} + \\alpha_{r}^{*} a_{r})$. When we consider the mode transformation\n",
        "\n",
        "$a^{\\dagger}_{r} \\rightarrow Sa^{\\dagger}_{r}S^{\\dagger} = \\sum_{q} (-ie^{-i\\vartheta})^{q} J_{q}(m)a^{\\dagger}_{r+q}$."
      ]
    },
    {
      "cell_type": "markdown",
      "metadata": {
        "id": "0C5d8qTOiOJ1"
      },
      "source": [
        ""
      ]
    },
    {
      "cell_type": "markdown",
      "metadata": {
        "id": "ldPh3EN1dcgA"
      },
      "source": [
        "parameters of the QFP"
      ]
    },
    {
      "cell_type": "code",
      "metadata": {
        "id": "E67mXC7pBiNm"
      },
      "source": [
        "n_layers, n_bins = 4, 32  # parameters of the QFP"
      ],
      "execution_count": null,
      "outputs": []
    },
    {
      "cell_type": "code",
      "metadata": {
        "id": "kHuaPycgfo-V"
      },
      "source": [
        "def unitaryV(parameters_ps, parameters_em) :\n",
        "    V = np.eye(bins, dtype='complex64')\n",
        "    for layer in range(0, n_layers) :\n",
        "        U_em = em.unitaryFD(parameters_em[layer], mod_depth, n_bins)\n",
        "        U_ps = ps.unitaryFD(parameters_ps[layer], n_bins)\n",
        "        V = V @ U_ps @ U_eom\n",
        "    return V"
      ],
      "execution_count": null,
      "outputs": []
    },
    {
      "cell_type": "code",
      "metadata": {
        "id": "FyYtPJGFiXdB"
      },
      "source": [
        ""
      ],
      "execution_count": null,
      "outputs": []
    },
    {
      "cell_type": "code",
      "metadata": {
        "id": "AtNdNMn6cmic"
      },
      "source": [
        "def optimize_circuit_fuzzypso() :\n",
        "  FP = fp.FuzzyPSO()\n",
        "  search_space = fp.setupSearchSpace(a_min, a_max)\n",
        "  FP.set_search_space(search_space)\n",
        "  FP.set_fitness(costfunction)  \n",
        "  FP.set_swarm_size(swarm_size)\n",
        "  best_solution, fitness = FP.solve_with_fstpso(max_iter=iterations)\n",
        "  return best_solution, fitness"
      ],
      "execution_count": null,
      "outputs": []
    },
    {
      "cell_type": "markdown",
      "metadata": {
        "id": "xb2raBRG1vcg"
      },
      "source": [
        "# Electro-optic modulator (EOM)\n",
        "\n",
        "The phase modulation of an [EOM](https://en.wikipedia.org/wiki/Electro-optic_modulator) is described by its driving voltage\n",
        "\n",
        "$a(t) = \\sum_{k=1}^{m} a_{k}\\sin(\\Omega_{k} t + \\varphi_{k})$\n",
        "\n",
        "Here we call $m = 1, 2, \\dots$ the modulation depth. When we concentrate on single-tone modulation we will set this to be equal to $1$.\n"
      ]
    },
    {
      "cell_type": "code",
      "metadata": {
        "id": "ngKk3LWRGKfA"
      },
      "source": [
        "import scipy.special"
      ],
      "execution_count": null,
      "outputs": []
    },
    {
      "cell_type": "code",
      "metadata": {
        "id": "fGP7hHC-Bce2"
      },
      "source": [
        "mod_depth = 1     # modulation depth\n",
        "a_min = 00.00     # minimal modulation amplitude\n",
        "a_max = 10.00     # maximal modulation amplitude"
      ],
      "execution_count": null,
      "outputs": []
    },
    {
      "cell_type": "markdown",
      "metadata": {
        "id": "fkpFn-EkBxqw"
      },
      "source": [
        "This defines the unitary in time domain (TD)."
      ]
    },
    {
      "cell_type": "code",
      "metadata": {
        "id": "a4U6CABXyWAB"
      },
      "source": [
        "def unitaryTD(parameters, mod_depth, n_bins) :\n",
        "    U = np.zeros(shape=(n_bins, n_bins), dtype=\"complex64\")\n",
        "    amplitude, phase = parameters\n",
        "    for i in range(0, d):\n",
        "        U[i][i] += np.exp(1j*(amplitude*np.sin(np.pi*i/d + phase)))\n",
        "    return U"
      ],
      "execution_count": null,
      "outputs": []
    },
    {
      "cell_type": "markdown",
      "metadata": {
        "id": "wHjhol11BRTd"
      },
      "source": [
        "Here is the corresponding unitary in frequency domain (FD)."
      ]
    },
    {
      "cell_type": "code",
      "metadata": {
        "id": "5_9wq2CaBNTY"
      },
      "source": [
        "def unitaryFD(parameters, mod_depth, n_bins) :\n",
        "    F = dft(bins)/np.sqrt(bins)\n",
        "    U = unitaryTD(parameters, mod_depth, d) #doesn't involve yet.\n",
        "    return F @ U @ RT.adjoint(F)"
      ],
      "execution_count": null,
      "outputs": []
    },
    {
      "cell_type": "markdown",
      "metadata": {
        "id": "E_UUKalrDqrB"
      },
      "source": [
        "todo"
      ]
    },
    {
      "cell_type": "code",
      "metadata": {
        "id": "GFLm7gyYDpEX"
      },
      "source": [
        "def besselFD(parameters, n_bins, f=0.42) :\n",
        "    U = np.zeros(shape=(d,d), dtype='complex64')\n",
        "    amplitude, phase = parameters\n",
        "    for i in range(0, d) :\n",
        "        for j in range(0, d) :\n",
        "            if(np.abs(i-j) <= math.ceil(amplitude+2)) :\n",
        "                U[i][j] = special.jv(i-j, f*amplitude)*(-1j*np.exp(-1j*phase))**(i-j)\n",
        "    return U"
      ],
      "execution_count": null,
      "outputs": []
    },
    {
      "cell_type": "markdown",
      "metadata": {
        "id": "kG_9gATF45gF"
      },
      "source": [
        "# phase shaper (PS)\n",
        "\n"
      ]
    },
    {
      "cell_type": "markdown",
      "metadata": {
        "id": "dxgZWEN1DxAl"
      },
      "source": [
        ""
      ]
    },
    {
      "cell_type": "code",
      "metadata": {
        "id": "JnXb2ViIEcoK"
      },
      "source": [
        ""
      ],
      "execution_count": null,
      "outputs": []
    }
  ]
}
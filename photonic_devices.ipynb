{
  "nbformat": 4,
  "nbformat_minor": 0,
  "metadata": {
    "colab": {
      "name": "photonic_devices.ipynb",
      "provenance": [],
      "collapsed_sections": [
        "2SeJosTngx-M"
      ],
      "toc_visible": true,
      "authorship_tag": "ABX9TyPPIQAT/YnEGdb6AfEXVS8L",
      "include_colab_link": true
    },
    "kernelspec": {
      "name": "python3",
      "display_name": "Python 3"
    }
  },
  "cells": [
    {
      "cell_type": "markdown",
      "metadata": {
        "id": "view-in-github",
        "colab_type": "text"
      },
      "source": [
        "<a href=\"https://colab.research.google.com/github/PhilipRuebeling/master_thesis/blob/main/photonic_devices.ipynb\" target=\"_parent\"><img src=\"https://colab.research.google.com/assets/colab-badge.svg\" alt=\"Open In Colab\"/></a>"
      ]
    },
    {
      "cell_type": "markdown",
      "metadata": {
        "id": "2CNaETzk-Ubt"
      },
      "source": [
        "$$\\newcommand{\\ket}[1]{\\left|{#1}\\right\\rangle}\\newcommand{\\bra}[1]{\\left\\langle\n",
        "{#1}\\right|}$$"
      ]
    },
    {
      "cell_type": "markdown",
      "metadata": {
        "id": "TVQBtiLcTRK6"
      },
      "source": [
        "# Presettings"
      ]
    },
    {
      "cell_type": "code",
      "metadata": {
        "id": "nxUQfF3g580A",
        "outputId": "56de6ff1-b3b0-4ad0-e953-7c0e2a950399",
        "colab": {
          "base_uri": "https://localhost:8080/"
        }
      },
      "source": [
        "%pip install fst-pso  # particle swarm optimization"
      ],
      "execution_count": 1,
      "outputs": [
        {
          "output_type": "stream",
          "text": [
            "Requirement already satisfied: fst-pso in /usr/local/lib/python3.6/dist-packages (1.7.10)\n",
            "Requirement already satisfied: miniful in /usr/local/lib/python3.6/dist-packages (from fst-pso) (0.0.6)\n",
            "Requirement already satisfied: numpy in /usr/local/lib/python3.6/dist-packages (from fst-pso) (1.18.5)\n",
            "Requirement already satisfied: scipy>=1.0.0 in /usr/local/lib/python3.6/dist-packages (from miniful->fst-pso) (1.4.1)\n"
          ],
          "name": "stdout"
        }
      ]
    },
    {
      "cell_type": "code",
      "metadata": {
        "id": "65drSZ8byEkA"
      },
      "source": [
        "import numpy as np\n",
        "import fstpso as fp\n",
        "\n",
        "import matplotlib.pyplot as plt\n",
        "import scipy.special\n",
        "import math\n",
        "import itertools\n",
        "from scipy.stats import norm\n",
        "from scipy.optimize import minimize\n",
        "from scipy.linalg import dft\n",
        "from random import *"
      ],
      "execution_count": 2,
      "outputs": []
    },
    {
      "cell_type": "markdown",
      "metadata": {
        "id": "ZeI7LXVKaVhS"
      },
      "source": [
        "# Routines\n"
      ]
    },
    {
      "cell_type": "code",
      "metadata": {
        "id": "AF5j_3Vda2pQ"
      },
      "source": [
        "def adjoint(A) :\n",
        "    return np.transpose(np.conjugate(A))"
      ],
      "execution_count": 3,
      "outputs": []
    },
    {
      "cell_type": "code",
      "metadata": {
        "id": "R9VKwbwolKMV"
      },
      "source": [
        "def delta(i, j) :\n",
        "  return int(i == j)"
      ],
      "execution_count": 4,
      "outputs": []
    },
    {
      "cell_type": "code",
      "metadata": {
        "id": "eIsm2tiqagml"
      },
      "source": [
        "def pack(parameters_ps, parameters_em, mod_depth) :\n",
        "    parameters = []\n",
        "    for k in range(0, n_layers*n_bins) :\n",
        "        parameters.append(parameters_ps[(k//n_bins)][(k%n_bins)])\n",
        "    for k in range(0, 2*n_layers*mod_depth) :\n",
        "        parameters.append(parameters_em[k//(2*mod_depth)][(k%(2*mod_depth))])\n",
        "    return parameters"
      ],
      "execution_count": 5,
      "outputs": []
    },
    {
      "cell_type": "code",
      "metadata": {
        "id": "HU7meflOasBx"
      },
      "source": [
        "def unpack(parameters, mod_depth) :\n",
        "    parameters_ps = np.zeros(shape=(n_layers, n_bins), dtype='float')\n",
        "    parameters_em = np.zeros(shape=(n_layers, 2*mod_depth), dtype='float')\n",
        "    for k in range(0, n_layers*n_bins) :\n",
        "        parameters_ps[(k//n_bins)][(k%n_bins)] = parameters[k]\n",
        "    for k in range(0, 2*n_layers*mod_depth) :\n",
        "        parameters_em[k//(2*mod_depth)][(k%(2*mod_depth))] = parameters[(k + n_bins*n_layers)]\n",
        "    return [parameters_ps, parameters_em]"
      ],
      "execution_count": 6,
      "outputs": []
    },
    {
      "cell_type": "code",
      "metadata": {
        "id": "qrz4xYmr3k0y"
      },
      "source": [
        "def state_to_statistics(state) :\n",
        "  return [np.abs(state[i])**2 for i in range(0, len(state))]"
      ],
      "execution_count": 7,
      "outputs": []
    },
    {
      "cell_type": "markdown",
      "metadata": {
        "id": "GTzX_1tIgsFB"
      },
      "source": [
        "# Electro-optic modulator (EOM)\n"
      ]
    },
    {
      "cell_type": "markdown",
      "metadata": {
        "id": "l7oIj7EygsFD"
      },
      "source": [
        "[Electro-optic modulator](https://en.wikipedia.org/wiki/Electro-optic_modulator) (EOM) have broad ranges of application in classical and quantum photonics. is described by its driving voltage\n",
        "\n",
        "$a(t) = \\sum_{k=1}^{m} a_{k}\\sin(\\Omega_{k} t + \\varphi_{k})$\n",
        "\n",
        "Here we call $m = 1, 2, \\dots$ the modulation depth. When we concentrate on single-tone modulation we will set this to be equal to $1$.\n",
        "\n",
        "$a^{\\dagger}_{r} \\rightarrow Sa^{\\dagger}_{r}S^{\\dagger} = \\sum_{q} (-ie^{-i\\vartheta})^{q} J_{q}(m)a^{\\dagger}_{r+q}$."
      ]
    },
    {
      "cell_type": "code",
      "metadata": {
        "id": "jqdHSb5TgsFD"
      },
      "source": [
        "# parameters to test the EOM\n",
        "mod_depth = 1     # modulation depth\n",
        "a_min = 00.00     # minimal modulation amplitude\n",
        "a_max = 10.00     # maximal modulation amplitude\n",
        "\n",
        "n_bins = 4\n",
        "parameters_test = [2, 0.0]"
      ],
      "execution_count": 8,
      "outputs": []
    },
    {
      "cell_type": "markdown",
      "metadata": {
        "id": "raj4GTmFgsFK"
      },
      "source": [
        "This defines the unitary in time domain (TD)."
      ]
    },
    {
      "cell_type": "code",
      "metadata": {
        "id": "cp1hoYdhgsFL"
      },
      "source": [
        "def em_unitaryTD(parameters, mod_depth, n_bins) :\n",
        "    U = np.zeros(shape=(n_bins, n_bins), dtype=\"complex128\")\n",
        "    amplitude, phase = parameters\n",
        "    for i in range(0, n_bins):\n",
        "        U[i][i] += np.exp(1j*(amplitude*np.sin(np.pi*i/n_bins + phase)))\n",
        "    return U"
      ],
      "execution_count": 9,
      "outputs": []
    },
    {
      "cell_type": "code",
      "metadata": {
        "id": "H-WWDWdPgsFO",
        "outputId": "00a07ffd-5b53-4ea3-b616-5689469661d2",
        "colab": {
          "base_uri": "https://localhost:8080/"
        }
      },
      "source": [
        "# testing if unitaryTD returns a unitary matrix\n",
        "U = np.around(em_unitaryTD(parameters_test, mod_depth, n_bins), decimals=9)\n",
        "print(U)\n",
        "is_unitary = np.allclose(np.eye(n_bins), U @ adjoint(U))\n",
        "print('em_unitaryTD() returns a unitary matrix: ' + str(is_unitary))"
      ],
      "execution_count": 10,
      "outputs": [
        {
          "output_type": "stream",
          "text": [
            "[[ 1.        +0.j          0.        +0.j          0.        +0.j\n",
            "   0.        +0.j        ]\n",
            " [ 0.        +0.j          0.15594369+0.98776595j  0.        +0.j\n",
            "   0.        +0.j        ]\n",
            " [ 0.        +0.j          0.        +0.j         -0.41614684+0.90929743j\n",
            "   0.        +0.j        ]\n",
            " [ 0.        +0.j          0.        +0.j          0.        +0.j\n",
            "   0.15594369+0.98776595j]]\n",
            "em_unitaryTD() returns a unitary matrix: True\n"
          ],
          "name": "stdout"
        }
      ]
    },
    {
      "cell_type": "markdown",
      "metadata": {
        "id": "IeZIPCCUgsFR"
      },
      "source": [
        "Plotting the modulation signal"
      ]
    },
    {
      "cell_type": "code",
      "metadata": {
        "id": "KhLpcvC7gsFS"
      },
      "source": [
        "def plot_modulation(parameters, mod_depth, n_bins) :\n",
        "    amplitude, phase = parameters\n",
        "    t = np.arange(0, 10*n_bins)\n",
        "    s = np.around(amplitude*np.sin(np.pi*t/n_bins + phase), decimals=9)\n",
        "    plt.title('modulation signal ot the EOM in TD')\n",
        "    plt.plot(t/n_bins, s)\n",
        "    plt.xlabel('time [norm.]')\n",
        "    plt.ylabel('driving voltage [arb.]')\n",
        "    plt.show()\n",
        "    plt.close()\n",
        "    pass"
      ],
      "execution_count": 11,
      "outputs": []
    },
    {
      "cell_type": "code",
      "metadata": {
        "id": "GxS_JxZwgsFU",
        "outputId": "d0bd3ebb-504d-429b-a7ef-15f5c76d9050",
        "colab": {
          "base_uri": "https://localhost:8080/",
          "height": 0
        }
      },
      "source": [
        "plot_modulation(parameters_test, mod_depth, n_bins)"
      ],
      "execution_count": 12,
      "outputs": [
        {
          "output_type": "display_data",
          "data": {
            "image/png": "[encoded data removed]",
            "text/plain": [
              "<Figure size 432x288 with 1 Axes>"
            ]
          },
          "metadata": {
            "tags": [],
            "needs_background": "light"
          }
        }
      ]
    },
    {
      "cell_type": "markdown",
      "metadata": {
        "id": "OaW4KUg8gsFX"
      },
      "source": [
        "Here is the corresponding unitary in frequency domain (FD)."
      ]
    },
    {
      "cell_type": "code",
      "metadata": {
        "id": "xx489czhgsFY"
      },
      "source": [
        "def em_unitaryFD(parameters, mod_depth, n_bins) :\n",
        "    F = dft(n_bins)/np.sqrt(n_bins)\n",
        "    U = em_unitaryTD(parameters, mod_depth, n_bins)\n",
        "    return F @ U @ adjoint(F)"
      ],
      "execution_count": 13,
      "outputs": []
    },
    {
      "cell_type": "code",
      "metadata": {
        "id": "AeHO-5LBgsFa",
        "outputId": "734a1292-eb00-4023-c050-502a56b06c8c",
        "colab": {
          "base_uri": "https://localhost:8080/"
        }
      },
      "source": [
        "# testing if unitaryFD returns a unitary matrix\n",
        "U = np.around(em_unitaryFD(parameters_test, mod_depth, n_bins), decimals=9)\n",
        "is_unitary = np.allclose(np.eye(n_bins), U @ adjoint(U))\n",
        "print('unitaryFD() returns a unitary matrix: ' + str(is_unitary))"
      ],
      "execution_count": 14,
      "outputs": [
        {
          "output_type": "stream",
          "text": [
            "unitaryFD() returns a unitary matrix: True\n"
          ],
          "name": "stdout"
        }
      ]
    },
    {
      "cell_type": "code",
      "metadata": {
        "id": "wt6j_6OBgsFe"
      },
      "source": [
        "# this function will not return some unitary matrix, \n",
        "# since we truncate the hilbert space\n",
        "def besselFD(parameters, n_bins, f=0.42) :\n",
        "    U = np.zeros(shape=(n_bins, n_bins), dtype='complex64')\n",
        "    amplitude, phase = parameters\n",
        "    for i in range(0, n_bins) :\n",
        "        for j in range(0, n_bins) :\n",
        "            if(np.abs(i-j) <= math.ceil(amplitude+2)) :\n",
        "                U[i][j] = special.jv(i-j, f*amplitude)*(-1j*np.exp(-1j*phase))**(i-j)\n",
        "    return U"
      ],
      "execution_count": 15,
      "outputs": []
    },
    {
      "cell_type": "markdown",
      "metadata": {
        "id": "2SeJosTngx-M"
      },
      "source": [
        "# Phase Shaper (PS)\n",
        "\n"
      ]
    },
    {
      "cell_type": "markdown",
      "metadata": {
        "id": "w9E9S1SbhNy3"
      },
      "source": [
        "TODO: explain how the PS works."
      ]
    },
    {
      "cell_type": "code",
      "metadata": {
        "id": "bKOYbwGr5CWN"
      },
      "source": [
        "n_bins = 4\n",
        "parameters_test = np.ones(n_bins)"
      ],
      "execution_count": 16,
      "outputs": []
    },
    {
      "cell_type": "code",
      "metadata": {
        "id": "4KmesBaxgx-O"
      },
      "source": [
        "def ps_unitaryFD(parameters, n_bins) :\n",
        "    U = np.array(np.zeros(shape=(n_bins, n_bins)), dtype='complex64')\n",
        "    for i in range(0, n_bins):\n",
        "        U[i][i] = np.exp(1j*parameters[i])\n",
        "    return U"
      ],
      "execution_count": 17,
      "outputs": []
    },
    {
      "cell_type": "code",
      "metadata": {
        "id": "VS2yv7Bsgx-S",
        "outputId": "64bdb5f0-90b8-4c6d-8f95-a4a9c23550d8",
        "colab": {
          "base_uri": "https://localhost:8080/"
        }
      },
      "source": [
        "# testing if unitaryFD returns a unitary matrix\n",
        "U = np.around(ps_unitaryFD(parameters_test, n_bins), decimals=9)\n",
        "is_unitary = np.allclose(np.eye(n_bins), U @ adjoint(U))\n",
        "print('unitaryFD() returns a unitary matrix: ' + str(is_unitary))"
      ],
      "execution_count": 18,
      "outputs": [
        {
          "output_type": "stream",
          "text": [
            "unitaryFD() returns a unitary matrix: True\n"
          ],
          "name": "stdout"
        }
      ]
    },
    {
      "cell_type": "markdown",
      "metadata": {
        "id": "1oZ2xFczLnhJ"
      },
      "source": [
        "# Benchmarking"
      ]
    },
    {
      "cell_type": "code",
      "metadata": {
        "id": "LEJLJE8C42NT"
      },
      "source": [
        "n_bins = 16"
      ],
      "execution_count": 19,
      "outputs": []
    },
    {
      "cell_type": "code",
      "metadata": {
        "id": "JRr_mXVJ_4BG"
      },
      "source": [
        "def identity() :\n",
        "  return np.ones(n_bins)/n_bins"
      ],
      "execution_count": 20,
      "outputs": []
    },
    {
      "cell_type": "code",
      "metadata": {
        "id": "MlqVW7NBLwFW"
      },
      "source": [
        "def bas22() :\n",
        "  bas = np.zeros(n_bins)\n",
        "  bas[0], bas[3], bas[5], bas[10], bas[12], bas[15] = 1, 1, 1, 1, 1, 1\n",
        "  return bas/6"
      ],
      "execution_count": 21,
      "outputs": []
    },
    {
      "cell_type": "code",
      "metadata": {
        "id": "YMnWHB6S25Rc",
        "outputId": "860ac1cc-3793-40f0-c5e9-ad355fe0d0e1",
        "colab": {
          "base_uri": "https://localhost:8080/",
          "height": 299
        }
      },
      "source": [
        "# plot the desired output distribution\n",
        "fig, ax = plt.subplots()\n",
        "rects = ax.bar(np.arange(0, n_bins), bas22())\n",
        "plt.title(\"intensity input distribtion of the CFP\")\n",
        "plt.xlabel('frequency bin $r$')\n",
        "plt.ylabel('intensity $|\\\\alpha_{r}|^2$ [norm.]')\n",
        "plt.show()"
      ],
      "execution_count": 22,
      "outputs": [
        {
          "output_type": "display_data",
          "data": {
            "image/png": "[encoded data removed]",
            "text/plain": [
              "<Figure size 432x288 with 1 Axes>"
            ]
          },
          "metadata": {
            "tags": [],
            "needs_background": "light"
          }
        }
      ]
    },
    {
      "cell_type": "code",
      "metadata": {
        "id": "yiFVfuNszmUE"
      },
      "source": [
        "def gaussian(mu=0.0, sigma=0.1) :\n",
        "  return norm.pdf(np.arange(0, n_bins),n_bins/2-1,2)"
      ],
      "execution_count": 23,
      "outputs": []
    },
    {
      "cell_type": "code",
      "metadata": {
        "id": "krtRa9s0241s",
        "outputId": "74b491a6-4094-4f07-a85d-b91e9c1ebe5c",
        "colab": {
          "base_uri": "https://localhost:8080/",
          "height": 299
        }
      },
      "source": [
        "# plot the desired output distribution\n",
        "fig, ax = plt.subplots()\n",
        "rects = ax.bar(np.arange(0, n_bins), gaussian())\n",
        "plt.title(\"intensity input distribtion of the CFP\")\n",
        "plt.xlabel('frequency bin $r$')\n",
        "plt.ylabel('intensity $|\\\\alpha_{r}|^2$ [norm.]')\n",
        "plt.show()"
      ],
      "execution_count": 24,
      "outputs": [
        {
          "output_type": "display_data",
          "data": {
            "image/png": "[encoded data removed]",
            "text/plain": [
              "<Figure size 432x288 with 1 Axes>"
            ]
          },
          "metadata": {
            "tags": [],
            "needs_background": "light"
          }
        }
      ]
    },
    {
      "cell_type": "markdown",
      "metadata": {
        "id": "hoItX-fKt7ZP"
      },
      "source": [
        "# Circuit Optimization"
      ]
    },
    {
      "cell_type": "markdown",
      "metadata": {
        "id": "knaICEBpTz-Y"
      },
      "source": [
        "We present two different optimization algorithms to optimize the costfunction. The first one is based on stochastic gradient decent and the second one is based on a gradient free procedure called particle swarm optimization."
      ]
    },
    {
      "cell_type": "markdown",
      "metadata": {
        "id": "XhteNLF2Ud66"
      },
      "source": [
        "Firstly, we present the gradient free approach of particle swarm optimization."
      ]
    },
    {
      "cell_type": "code",
      "metadata": {
        "id": "E0LwJoJLuoHQ"
      },
      "source": [
        "swarm_size = 100    # number of particles used in the PSO\n",
        "iterations = 250    # number of iterations in the PSO "
      ],
      "execution_count": 25,
      "outputs": []
    },
    {
      "cell_type": "code",
      "metadata": {
        "id": "woANEIllvLfc"
      },
      "source": [
        "def bulid_search_space(n_layers, n_bins, mod_depth) :\n",
        "    phase_range, amplitude_range = [0, 2*np.pi], [a_min, a_max]\n",
        "    search_space = []\n",
        "    for i in range(0, n_layers*n_bins) :\n",
        "        search_space.append(phase_range)\n",
        "    for i in range(0, n_layers*mod_depth) :\n",
        "        search_space.append(amplitude_range)\n",
        "        search_space.append(phase_range)\n",
        "    return search_space"
      ],
      "execution_count": 26,
      "outputs": []
    },
    {
      "cell_type": "code",
      "metadata": {
        "id": "pB4WE26BuS8-"
      },
      "source": [
        "def optimize_pso(costfunction, n_layers, n_bins, mod_depth) :\n",
        "  FP = fp.FuzzyPSO()\n",
        "  FP.set_search_space(bulid_search_space(n_layers, n_bins, mod_depth))\n",
        "  FP.set_fitness(costfunction)  \n",
        "  FP.set_swarm_size(swarm_size)\n",
        "  best_solution, fitness = FP.solve_with_fstpso(max_iter=iterations)\n",
        "  return [best_solution, fitness]"
      ],
      "execution_count": 27,
      "outputs": []
    },
    {
      "cell_type": "markdown",
      "metadata": {
        "id": "_R_pdz1yUNtm"
      },
      "source": [
        "TODO: Secondly, we present the gradient based approach."
      ]
    },
    {
      "cell_type": "markdown",
      "metadata": {
        "id": "oVU7oG_7gLB7"
      },
      "source": [
        "# Quantum Frequency Processor (QFP)"
      ]
    },
    {
      "cell_type": "markdown",
      "metadata": {
        "id": "uVUAbakRqvV1"
      },
      "source": [
        "We would like to derive the canonical transformation rule for the annihilation and creation operators in the QFP, i.e. $a_{r} \\rightarrow a_{r}' = U a_{r}U^{\\dagger} = \\sum_{l} V_{rl} a_{l}$ where the unitary transformation $V$ is to be determined."
      ]
    },
    {
      "cell_type": "markdown",
      "metadata": {
        "id": "tQH_jy0BdAcF"
      },
      "source": [
        "$\\ket{l} = \\sqrt{(1 + \\delta_{p_{l} q_{l}})^{-1}} a_{p_{l}}^{\\dagger}a_{q_{l}}^{\\dagger} \\ket{vac}$ and the output state is given by $\\ket{m} = \\sqrt{(1 + \\delta_{p_{m} q_{m}})^{-1}} a_{p_{m}}^{\\dagger}a_{q_{m}}^{\\dagger} \\ket{vac}$\n",
        "\n",
        "The transfer matrix can be written as $W_{lm} = \\bra{l} m \\rangle = \\sum_{} \\frac{V_{} V_{}}{\\sqrt{(1 + \\delta_{})(1 + \\delta_{})}}$"
      ]
    },
    {
      "cell_type": "code",
      "metadata": {
        "id": "pu_x_UmMVlcE"
      },
      "source": [
        "n_layers, n_bins = 2, 16  # defines the architecture of the QFP"
      ],
      "execution_count": 28,
      "outputs": []
    },
    {
      "cell_type": "code",
      "metadata": {
        "id": "PrQ-mC3xm4OD"
      },
      "source": [
        "# input density matrix\n",
        "def density_operator_input() :\n",
        "  density_operator = np.zeros(shape=(n_bins, n_bins), dtype=\"complex64\")\n",
        "  # specific input\n",
        "  state = np.ones(n_bins)/np.sqrt(n_bins)\n",
        "  density_operator = np.outer(state, state)\n",
        "  return density_operator"
      ],
      "execution_count": 29,
      "outputs": []
    },
    {
      "cell_type": "code",
      "metadata": {
        "id": "HU3d1vXtoOmb",
        "outputId": "96a04c28-c509-4aa4-a961-eaed7b6529f9",
        "colab": {
          "base_uri": "https://localhost:8080/"
        }
      },
      "source": [
        "# testing density matrix input\n",
        "input = density_operator_input()\n",
        "\n",
        "# normalized?\n",
        "is_normalized = np.allclose(np.trace(input), 1+0j)\n",
        "print(\"the density operator is normalized to one: \" + str(is_normalized))\n",
        "\n",
        "# pure state?\n",
        "is_pure_state = np.allclose(np.trace(input @ input), 1+0j)\n",
        "print(\"the density operator is pure: \" + str(is_pure_state))"
      ],
      "execution_count": 30,
      "outputs": [
        {
          "output_type": "stream",
          "text": [
            "the density operator is normalized to one: True\n",
            "the density operator is pure: True\n"
          ],
          "name": "stdout"
        }
      ]
    },
    {
      "cell_type": "code",
      "metadata": {
        "id": "uPiwmTA5oFxE",
        "outputId": "be7bc754-7a09-4d9a-ebab-4f7119253abf",
        "colab": {
          "base_uri": "https://localhost:8080/",
          "height": 218
        }
      },
      "source": [
        "# plot the input density matrix\n",
        "plt.subplot(121)\n",
        "plt.imshow(np.real(input), cmap='coolwarm')\n",
        "plt.title(\"$Re(\\\\rho)$\")\n",
        "plt.subplot(122)\n",
        "plt.imshow(np.imag(input), cmap='coolwarm')\n",
        "plt.title(\"$Im(\\\\rho)$\")\n",
        "plt.show()"
      ],
      "execution_count": 31,
      "outputs": [
        {
          "output_type": "display_data",
          "data": {
            "image/png": "[encoded data removed]",
            "text/plain": [
              "<Figure size 432x288 with 2 Axes>"
            ]
          },
          "metadata": {
            "tags": [],
            "needs_background": "light"
          }
        }
      ]
    },
    {
      "cell_type": "code",
      "metadata": {
        "id": "s3I4jk3NAXv4"
      },
      "source": [
        "def unitaryV(parameters_ps, parameters_em) :\n",
        "    V = np.eye(n_bins, dtype='complex64')\n",
        "    for layer in range(0, n_layers) :\n",
        "        U_em = em_unitaryFD(parameters_em[layer], mod_depth, n_bins)\n",
        "        U_ps = ps_unitaryFD(parameters_ps[layer], n_bins)\n",
        "        V = V @ U_ps @ U_em\n",
        "    return V"
      ],
      "execution_count": 32,
      "outputs": []
    },
    {
      "cell_type": "code",
      "metadata": {
        "id": "Vm4KJJmBbCee"
      },
      "source": [
        "# two photon case\n",
        "#def transfer_matrix(parameters) :\n",
        "#    W = np.zeros(shape=(n_bins, n_bins), dtype='complex64')\n",
        "#    parameters_ps, parameters_em = unpack(parameters, mod_depth)\n",
        "#    V = unitaryV(parameters_ps, parameters_em)\n",
        "#    for l in range(0, n_bins) :\n",
        "#        r1, r2 = labelMapping(l)\n",
        "#        for m in range(0, n_bins) :\n",
        "#            q1, q2 = labelMapping(m)\n",
        "#            permutations = RT.getPermutations([q1, q2])\n",
        "#            for perm in permutations:\n",
        "#                a, b = perm\n",
        "#                W[l][m]+=1.0/(np.sqrt((1 + delta(r1, r2))*(1 + delta(q1, q2))))*V[r1][a]*V[r2][b]\n",
        "#    return W"
      ],
      "execution_count": 33,
      "outputs": []
    },
    {
      "cell_type": "code",
      "metadata": {
        "id": "FkIO7A91B7zb"
      },
      "source": [
        "def transfer_matrix(parameters) :\n",
        "    W = np.zeros(shape=(n_bins, n_bins), dtype='complex64')\n",
        "    parameters_ps, parameters_em = unpack(parameters, mod_depth)\n",
        "    V = unitaryV(parameters_ps, parameters_em)\n",
        "    W = V\n",
        "    return W"
      ],
      "execution_count": 34,
      "outputs": []
    },
    {
      "cell_type": "code",
      "metadata": {
        "id": "tIq55fSEm0H0"
      },
      "source": [
        "# output density matrix\n",
        "def density_operator_output(parameters) :\n",
        "  W = transfer_matrix(parameters)\n",
        "  return W @ density_operator_input() @ adjoint(W)"
      ],
      "execution_count": 35,
      "outputs": []
    },
    {
      "cell_type": "code",
      "metadata": {
        "id": "ZGeQIbTW6tOU"
      },
      "source": [
        "def costfunction(parameters) :\n",
        "  cost = 0\n",
        "  actual = density_operator_output(parameters)\n",
        "  target = bas22()\n",
        "  for i in range(0, n_bins) :\n",
        "    cost += (actual[i][i] - target[i])**2\n",
        "  return cost"
      ],
      "execution_count": 36,
      "outputs": []
    },
    {
      "cell_type": "code",
      "metadata": {
        "id": "gxumxwgz_2vZ",
        "outputId": "11d6f708-6278-4bf9-81ef-50637df5a4e0",
        "colab": {
          "base_uri": "https://localhost:8080/"
        }
      },
      "source": [
        "optimized_parameters = optimize_pso(costfunction, n_layers, n_bins, mod_depth)"
      ],
      "execution_count": 37,
      "outputs": [
        {
          "output_type": "stream",
          "text": [
            "Fuzzy Self-Tuning PSO - v1.7.10\n",
            " * Max distance: 39.271697\n",
            " * Search space boundaries set to: [[0, 6.283185307179586], [0, 6.283185307179586], [0, 6.283185307179586], [0, 6.283185307179586], [0, 6.283185307179586], [0, 6.283185307179586], [0, 6.283185307179586], [0, 6.283185307179586], [0, 6.283185307179586], [0, 6.283185307179586], [0, 6.283185307179586], [0, 6.283185307179586], [0, 6.283185307179586], [0, 6.283185307179586], [0, 6.283185307179586], [0, 6.283185307179586], [0, 6.283185307179586], [0, 6.283185307179586], [0, 6.283185307179586], [0, 6.283185307179586], [0, 6.283185307179586], [0, 6.283185307179586], [0, 6.283185307179586], [0, 6.283185307179586], [0, 6.283185307179586], [0, 6.283185307179586], [0, 6.283185307179586], [0, 6.283185307179586], [0, 6.283185307179586], [0, 6.283185307179586], [0, 6.283185307179586], [0, 6.283185307179586], [0.0, 10.0], [0, 6.283185307179586], [0.0, 10.0], [0, 6.283185307179586]]\n",
            " * Max velocities set to: [6.283185307179586, 6.283185307179586, 6.283185307179586, 6.283185307179586, 6.283185307179586, 6.283185307179586, 6.283185307179586, 6.283185307179586, 6.283185307179586, 6.283185307179586, 6.283185307179586, 6.283185307179586, 6.283185307179586, 6.283185307179586, 6.283185307179586, 6.283185307179586, 6.283185307179586, 6.283185307179586, 6.283185307179586, 6.283185307179586, 6.283185307179586, 6.283185307179586, 6.283185307179586, 6.283185307179586, 6.283185307179586, 6.283185307179586, 6.283185307179586, 6.283185307179586, 6.283185307179586, 6.283185307179586, 6.283185307179586, 6.283185307179586, 10.0, 6.283185307179586, 10.0, 6.283185307179586]\n",
            " * Number of particles automatically set to 22\n",
            " * Swarm size now set to 100 particles\n",
            " * 100 particles created.\n",
            " * FST-PSO will now assess the local and global best particles.\n",
            " * New best particle in the swarm is #0 with fitness 0.143681 (it: 0).\n",
            " * New best particle in the swarm is #1 with fitness 0.137099 (it: 0).\n",
            " * New best particle in the swarm is #3 with fitness 0.090868 (it: 0).\n",
            " * New best particle in the swarm is #23 with fitness 0.090405 (it: 0).\n",
            " * New best particle in the swarm is #27 with fitness 0.088236 (it: 0).\n",
            " * New best particle in the swarm is #68 with fitness 0.079910 (it: 0).\n",
            " * New best particle in the swarm is #86 with fitness 0.068022 (it: 0).\n",
            "\n",
            " *** All prepared, launching optimization ***\n"
          ],
          "name": "stdout"
        },
        {
          "output_type": "stream",
          "text": [
            "/usr/local/lib/python3.6/dist-packages/fstpso/fstpso.py:439: ComplexWarning: Casting complex values to real discards the imaginary part\n",
            "  print (\" * New best particle in the swarm is #%d with fitness %f (it: %d).\" % (i, self.Solutions[i].CalculatedFitness, self.Iterations))\n",
            "/usr/local/lib/python3.6/dist-packages/miniful/miniful.py:118: ComplexWarning: Casting complex values to real discards the imaginary part\n",
            "  return {'term' : self._consequent[0], 'output' : self._consequent[1], 'weight' : float(final_result)}\n"
          ],
          "name": "stderr"
        },
        {
          "output_type": "stream",
          "text": [
            " * New best particle in the swarm is #55 with fitness 0.063662 (it: 0).\n"
          ],
          "name": "stdout"
        },
        {
          "output_type": "stream",
          "text": [
            "/usr/local/lib/python3.6/dist-packages/fstpso/fstpso.py:457: ComplexWarning: Casting complex values to real discards the imaginary part\n",
            "  logging.info('[Iteration %d] best individual fitness: %f' % (self.Iterations, self.G.CalculatedFitness))\n"
          ],
          "name": "stderr"
        },
        {
          "output_type": "stream",
          "text": [
            " * New best particle in the swarm is #78 with fitness 0.061132 (it: 2).\n",
            " * New best particle in the swarm is #76 with fitness 0.051765 (it: 3).\n",
            " * New best particle in the swarm is #30 with fitness 0.045207 (it: 5).\n",
            " * New best particle in the swarm is #15 with fitness 0.045018 (it: 6).\n",
            " * New best particle in the swarm is #47 with fitness 0.044207 (it: 6).\n",
            " * New best particle in the swarm is #91 with fitness 0.043100 (it: 6).\n",
            " * New best particle in the swarm is #25 with fitness 0.032589 (it: 9).\n",
            " * New best particle in the swarm is #25 with fitness 0.028385 (it: 10).\n",
            " * New best particle in the swarm is #33 with fitness 0.022552 (it: 10).\n",
            " * New best particle in the swarm is #67 with fitness 0.019287 (it: 11).\n",
            " * New best particle in the swarm is #33 with fitness 0.018481 (it: 13).\n",
            " * New best particle in the swarm is #67 with fitness 0.016521 (it: 13).\n",
            " * New best particle in the swarm is #25 with fitness 0.016493 (it: 14).\n",
            " * New best particle in the swarm is #91 with fitness 0.014428 (it: 14).\n",
            " * New best particle in the swarm is #25 with fitness 0.013262 (it: 16).\n",
            " * New best particle in the swarm is #45 with fitness 0.011792 (it: 16).\n",
            " * New best particle in the swarm is #45 with fitness 0.011675 (it: 17).\n",
            " * New best particle in the swarm is #69 with fitness 0.011325 (it: 18).\n",
            " * New best particle in the swarm is #10 with fitness 0.011244 (it: 19).\n",
            " * New best particle in the swarm is #45 with fitness 0.010813 (it: 19).\n",
            " * New best particle in the swarm is #91 with fitness 0.010764 (it: 19).\n",
            " * New best particle in the swarm is #16 with fitness 0.010478 (it: 20).\n",
            " * New best particle in the swarm is #56 with fitness 0.010307 (it: 20).\n",
            " * New best particle in the swarm is #16 with fitness 0.009785 (it: 21).\n",
            " * New best particle in the swarm is #29 with fitness 0.009326 (it: 21).\n",
            " * New best particle in the swarm is #9 with fitness 0.007585 (it: 22).\n",
            " * New best particle in the swarm is #57 with fitness 0.007374 (it: 23).\n",
            " * New best particle in the swarm is #69 with fitness 0.007298 (it: 23).\n",
            " * New best particle in the swarm is #10 with fitness 0.006929 (it: 24).\n",
            " * New best particle in the swarm is #25 with fitness 0.006508 (it: 25).\n",
            " * New best particle in the swarm is #99 with fitness 0.006295 (it: 25).\n",
            " * New best particle in the swarm is #19 with fitness 0.006090 (it: 26).\n",
            " * New best particle in the swarm is #42 with fitness 0.005973 (it: 26).\n",
            " * New best particle in the swarm is #75 with fitness 0.005959 (it: 26).\n",
            " * 27th iteration out of 250 completed. [###                           ]\n",
            " * New best particle in the swarm is #6 with fitness 0.005777 (it: 27).\n",
            " * New best particle in the swarm is #11 with fitness 0.005131 (it: 27).\n",
            " * New best particle in the swarm is #19 with fitness 0.004746 (it: 27).\n",
            " * New best particle in the swarm is #6 with fitness 0.004712 (it: 28).\n",
            " * New best particle in the swarm is #13 with fitness 0.004366 (it: 28).\n",
            " * New best particle in the swarm is #91 with fitness 0.004160 (it: 28).\n",
            " * New best particle in the swarm is #38 with fitness 0.004129 (it: 29).\n",
            " * New best particle in the swarm is #97 with fitness 0.004021 (it: 29).\n",
            " * New best particle in the swarm is #17 with fitness 0.003934 (it: 30).\n",
            " * New best particle in the swarm is #99 with fitness 0.003534 (it: 30).\n",
            " * 31th iteration out of 250 completed. [###                           ]\n",
            " * New best particle in the swarm is #10 with fitness 0.003188 (it: 31).\n",
            " * New best particle in the swarm is #5 with fitness 0.003143 (it: 32).\n",
            " * New best particle in the swarm is #9 with fitness 0.003081 (it: 32).\n",
            " * New best particle in the swarm is #9 with fitness 0.002991 (it: 33).\n",
            " * New best particle in the swarm is #9 with fitness 0.002986 (it: 34).\n",
            " * New best particle in the swarm is #10 with fitness 0.002665 (it: 34).\n",
            " * 35th iteration out of 250 completed. [####                          ]\n",
            " * New best particle in the swarm is #9 with fitness 0.002645 (it: 35).\n",
            " * New best particle in the swarm is #88 with fitness 0.002506 (it: 35).\n",
            " * New best particle in the swarm is #84 with fitness 0.002490 (it: 36).\n",
            " * New best particle in the swarm is #19 with fitness 0.002478 (it: 38).\n",
            " * New best particle in the swarm is #83 with fitness 0.002443 (it: 38).\n",
            " * New best particle in the swarm is #27 with fitness 0.002353 (it: 39).\n",
            " * New best particle in the swarm is #91 with fitness 0.002247 (it: 40).\n",
            " * 41th iteration out of 250 completed. [####                          ]\n",
            " * New best particle in the swarm is #11 with fitness 0.002187 (it: 41).\n",
            " * New best particle in the swarm is #54 with fitness 0.002160 (it: 42).\n",
            " * New best particle in the swarm is #68 with fitness 0.002111 (it: 43).\n",
            " * New best particle in the swarm is #65 with fitness 0.002075 (it: 44).\n",
            " * New best particle in the swarm is #16 with fitness 0.002072 (it: 45).\n",
            " * New best particle in the swarm is #44 with fitness 0.002064 (it: 45).\n",
            " * New best particle in the swarm is #5 with fitness 0.002019 (it: 47).\n",
            " * New best particle in the swarm is #11 with fitness 0.001989 (it: 48).\n",
            " * New best particle in the swarm is #52 with fitness 0.001978 (it: 48).\n",
            " * New best particle in the swarm is #68 with fitness 0.001965 (it: 49).\n",
            " * 50th iteration out of 250 completed. [######                        ]\n",
            " * New best particle in the swarm is #77 with fitness 0.001957 (it: 50).\n",
            " * New best particle in the swarm is #93 with fitness 0.001949 (it: 50).\n",
            " * New best particle in the swarm is #40 with fitness 0.001946 (it: 51).\n",
            " * New best particle in the swarm is #58 with fitness 0.001922 (it: 51).\n",
            " * New best particle in the swarm is #28 with fitness 0.001912 (it: 53).\n",
            " * New best particle in the swarm is #3 with fitness 0.001907 (it: 54).\n",
            " * New best particle in the swarm is #5 with fitness 0.001901 (it: 54).\n",
            " * New best particle in the swarm is #30 with fitness 0.001892 (it: 54).\n",
            " * New best particle in the swarm is #0 with fitness 0.001892 (it: 55).\n",
            " * New best particle in the swarm is #5 with fitness 0.001883 (it: 55).\n",
            " * New best particle in the swarm is #73 with fitness 0.001883 (it: 55).\n",
            " * New best particle in the swarm is #5 with fitness 0.001876 (it: 57).\n",
            " * New best particle in the swarm is #7 with fitness 0.001876 (it: 58).\n",
            " * New best particle in the swarm is #64 with fitness 0.001873 (it: 58).\n",
            " * New best particle in the swarm is #5 with fitness 0.001872 (it: 59).\n",
            " * New best particle in the swarm is #12 with fitness 0.001871 (it: 59).\n",
            " * New best particle in the swarm is #29 with fitness 0.001869 (it: 59).\n",
            " * New best particle in the swarm is #83 with fitness 0.001865 (it: 59).\n",
            " * New best particle in the swarm is #23 with fitness 0.001863 (it: 60).\n",
            " * New best particle in the swarm is #28 with fitness 0.001861 (it: 60).\n",
            " * New best particle in the swarm is #35 with fitness 0.001860 (it: 60).\n",
            " * New best particle in the swarm is #57 with fitness 0.001860 (it: 61).\n",
            " * New best particle in the swarm is #75 with fitness 0.001852 (it: 61).\n",
            " * 62th iteration out of 250 completed. [#######                       ]\n",
            " * New best particle in the swarm is #49 with fitness 0.001851 (it: 62).\n",
            " * New best particle in the swarm is #17 with fitness 0.001851 (it: 63).\n",
            " * New best particle in the swarm is #10 with fitness 0.001846 (it: 64).\n",
            " * New best particle in the swarm is #27 with fitness 0.001845 (it: 65).\n",
            " * New best particle in the swarm is #44 with fitness 0.001835 (it: 65).\n",
            " * New best particle in the swarm is #1 with fitness 0.001834 (it: 67).\n",
            " * New best particle in the swarm is #26 with fitness 0.001829 (it: 67).\n",
            " * New best particle in the swarm is #26 with fitness 0.001828 (it: 68).\n",
            " * New best particle in the swarm is #27 with fitness 0.001821 (it: 69).\n",
            " * New best particle in the swarm is #1 with fitness 0.001818 (it: 70).\n",
            " * New best particle in the swarm is #31 with fitness 0.001816 (it: 70).\n",
            " * New best particle in the swarm is #96 with fitness 0.001809 (it: 70).\n",
            " * New best particle in the swarm is #2 with fitness 0.001805 (it: 71).\n",
            " * New best particle in the swarm is #13 with fitness 0.001804 (it: 71).\n",
            " * New best particle in the swarm is #20 with fitness 0.001803 (it: 72).\n",
            " * New best particle in the swarm is #68 with fitness 0.001803 (it: 72).\n",
            " * New best particle in the swarm is #96 with fitness 0.001798 (it: 72).\n",
            " * New best particle in the swarm is #4 with fitness 0.001781 (it: 73).\n",
            " * New best particle in the swarm is #0 with fitness 0.001779 (it: 74).\n",
            " * New best particle in the swarm is #13 with fitness 0.001761 (it: 74).\n",
            " * New best particle in the swarm is #58 with fitness 0.001752 (it: 76).\n",
            " * New best particle in the swarm is #2 with fitness 0.001751 (it: 80).\n",
            " * New best particle in the swarm is #39 with fitness 0.001750 (it: 80).\n",
            " * New best particle in the swarm is #93 with fitness 0.001746 (it: 80).\n",
            " * New best particle in the swarm is #50 with fitness 0.001746 (it: 81).\n",
            " * New best particle in the swarm is #3 with fitness 0.001743 (it: 82).\n",
            " * 83th iteration out of 250 completed. [#########                     ]\n",
            " * New best particle in the swarm is #38 with fitness 0.001742 (it: 83).\n",
            " * New best particle in the swarm is #77 with fitness 0.001742 (it: 83).\n",
            " * New best particle in the swarm is #95 with fitness 0.001740 (it: 83).\n",
            " * New best particle in the swarm is #74 with fitness 0.001735 (it: 84).\n",
            " * New best particle in the swarm is #30 with fitness 0.001734 (it: 85).\n",
            " * New best particle in the swarm is #88 with fitness 0.001734 (it: 86).\n",
            " * New best particle in the swarm is #8 with fitness 0.001732 (it: 87).\n",
            " * New best particle in the swarm is #53 with fitness 0.001727 (it: 87).\n",
            " * New best particle in the swarm is #54 with fitness 0.001727 (it: 89).\n",
            " * New best particle in the swarm is #9 with fitness 0.001721 (it: 92).\n",
            " * New best particle in the swarm is #4 with fitness 0.001720 (it: 96).\n",
            " * New best particle in the swarm is #9 with fitness 0.001720 (it: 96).\n",
            " * New best particle in the swarm is #5 with fitness 0.001719 (it: 97).\n",
            " * New best particle in the swarm is #48 with fitness 0.001718 (it: 97).\n",
            " * New best particle in the swarm is #49 with fitness 0.001716 (it: 97).\n",
            " * New best particle in the swarm is #17 with fitness 0.001716 (it: 98).\n",
            " * New best particle in the swarm is #68 with fitness 0.001715 (it: 98).\n",
            " * New best particle in the swarm is #12 with fitness 0.001712 (it: 100).\n",
            " * New best particle in the swarm is #76 with fitness 0.001712 (it: 104).\n",
            " * New best particle in the swarm is #11 with fitness 0.001711 (it: 105).\n",
            " * New best particle in the swarm is #23 with fitness 0.001711 (it: 109).\n",
            " * New best particle in the swarm is #11 with fitness 0.001707 (it: 110).\n",
            " * New best particle in the swarm is #84 with fitness 0.001703 (it: 112).\n",
            " * New best particle in the swarm is #83 with fitness 0.001700 (it: 114).\n",
            " * New best particle in the swarm is #83 with fitness 0.001698 (it: 115).\n",
            " * New best particle in the swarm is #68 with fitness 0.001697 (it: 118).\n",
            " * New best particle in the swarm is #1 with fitness 0.001696 (it: 123).\n",
            " * New best particle in the swarm is #2 with fitness 0.001690 (it: 124).\n",
            " * 125th iteration out of 250 completed. [###############               ]\n",
            " * New best particle in the swarm is #96 with fitness 0.001690 (it: 127).\n",
            " * New best particle in the swarm is #85 with fitness 0.001688 (it: 128).\n",
            " * New best particle in the swarm is #1 with fitness 0.001688 (it: 131).\n",
            " * New best particle in the swarm is #33 with fitness 0.001686 (it: 132).\n",
            " * New best particle in the swarm is #83 with fitness 0.001686 (it: 137).\n",
            " * New best particle in the swarm is #93 with fitness 0.001685 (it: 139).\n",
            " * New best particle in the swarm is #77 with fitness 0.001684 (it: 140).\n",
            " * New best particle in the swarm is #55 with fitness 0.001682 (it: 141).\n",
            " * New best particle in the swarm is #55 with fitness 0.001682 (it: 143).\n",
            " * New best particle in the swarm is #46 with fitness 0.001682 (it: 144).\n",
            " * New best particle in the swarm is #61 with fitness 0.001681 (it: 144).\n",
            " * New best particle in the swarm is #80 with fitness 0.001679 (it: 146).\n",
            " * New best particle in the swarm is #87 with fitness 0.001678 (it: 152).\n",
            " * New best particle in the swarm is #43 with fitness 0.001678 (it: 153).\n",
            " * New best particle in the swarm is #96 with fitness 0.001677 (it: 153).\n",
            " * New best particle in the swarm is #6 with fitness 0.001676 (it: 154).\n",
            " * New best particle in the swarm is #43 with fitness 0.001676 (it: 158).\n",
            " * New best particle in the swarm is #57 with fitness 0.001674 (it: 158).\n",
            " * New best particle in the swarm is #58 with fitness 0.001672 (it: 159).\n",
            " * New best particle in the swarm is #97 with fitness 0.001671 (it: 163).\n",
            " * New best particle in the swarm is #93 with fitness 0.001670 (it: 165).\n",
            " * New best particle in the swarm is #93 with fitness 0.001669 (it: 167).\n",
            " * New best particle in the swarm is #84 with fitness 0.001668 (it: 168).\n",
            " * New best particle in the swarm is #32 with fitness 0.001666 (it: 169).\n",
            " * New best particle in the swarm is #31 with fitness 0.001666 (it: 176).\n",
            " * New best particle in the swarm is #45 with fitness 0.001666 (it: 179).\n",
            " * New best particle in the swarm is #44 with fitness 0.001666 (it: 186).\n",
            " * New best particle in the swarm is #25 with fitness 0.001665 (it: 187).\n",
            " * New best particle in the swarm is #57 with fitness 0.001664 (it: 188).\n",
            " * New best particle in the swarm is #97 with fitness 0.001664 (it: 192).\n",
            " * New best particle in the swarm is #55 with fitness 0.001663 (it: 194).\n",
            " * New best particle in the swarm is #20 with fitness 0.001663 (it: 197).\n",
            " * New best particle in the swarm is #46 with fitness 0.001662 (it: 202).\n",
            " * New best particle in the swarm is #46 with fitness 0.001661 (it: 204).\n",
            " * New best particle in the swarm is #13 with fitness 0.001661 (it: 214).\n",
            " * New best particle in the swarm is #28 with fitness 0.001661 (it: 216).\n",
            " * New best particle in the swarm is #27 with fitness 0.001661 (it: 219).\n",
            " * New best particle in the swarm is #36 with fitness 0.001659 (it: 220).\n",
            " * New best particle in the swarm is #71 with fitness 0.001658 (it: 223).\n",
            " * New best particle in the swarm is #58 with fitness 0.001657 (it: 235).\n",
            " * New best particle in the swarm is #58 with fitness 0.001657 (it: 241).\n",
            " * New best particle in the swarm is #34 with fitness 0.001657 (it: 249).\n",
            " * 250th iteration out of 250 completed. [##############################]\n"
          ],
          "name": "stdout"
        }
      ]
    },
    {
      "cell_type": "code",
      "metadata": {
        "id": "_9c6tbgc_hrg",
        "outputId": "47d81ec3-1690-490d-b72d-cef968750989",
        "colab": {
          "base_uri": "https://localhost:8080/"
        }
      },
      "source": [
        "# testing density matrix output\n",
        "output = density_operator_output(optimized_parameters[0].X)\n",
        "\n",
        "# normalized?\n",
        "is_normalized = np.allclose(np.trace(output), 1+0j)\n",
        "print(\"the density operator is normalized to one: \" + str(is_normalized))\n",
        "\n",
        "# pure state?\n",
        "is_pure_state = np.allclose(np.trace(output @ output), 1+0j)\n",
        "print(\"the density operator is pure: \" + str(is_pure_state))"
      ],
      "execution_count": 38,
      "outputs": [
        {
          "output_type": "stream",
          "text": [
            "the density operator is normalized to one: True\n",
            "the density operator is pure: True\n"
          ],
          "name": "stdout"
        }
      ]
    },
    {
      "cell_type": "code",
      "metadata": {
        "id": "nKbelIbkuelB",
        "outputId": "43297fe8-94ce-4655-a0ae-e35f5f6cf572",
        "colab": {
          "base_uri": "https://localhost:8080/",
          "height": 218
        }
      },
      "source": [
        "# plot the output density matrix\n",
        "plt.subplot(121)\n",
        "plt.imshow(np.real(output), cmap='coolwarm')\n",
        "plt.title(\"$Re(\\\\rho)$\")\n",
        "plt.subplot(122)\n",
        "plt.imshow(np.imag(output), cmap='coolwarm')\n",
        "plt.title(\"$Im(\\\\rho)$\")\n",
        "plt.show()"
      ],
      "execution_count": 39,
      "outputs": [
        {
          "output_type": "display_data",
          "data": {
            "image/png": "[encoded data removed]",
            "text/plain": [
              "<Figure size 432x288 with 2 Axes>"
            ]
          },
          "metadata": {
            "tags": [],
            "needs_background": "light"
          }
        }
      ]
    },
    {
      "cell_type": "code",
      "metadata": {
        "id": "nUgc8EYiEsqi",
        "outputId": "572ae707-edd9-4b62-83be-050e82e7c678",
        "colab": {
          "base_uri": "https://localhost:8080/",
          "height": 333
        }
      },
      "source": [
        "# plotting the statistics\n",
        "fig, ax = plt.subplots()\n",
        "rects = ax.bar(np.arange(0, n_bins), [output[i][i] for i in range(0, n_bins)])\n",
        "plt.title(\"intensity output distribtion of the QFP\")\n",
        "plt.xlabel('frequency bin $r$')\n",
        "plt.ylabel('intensity $|\\\\alpha_{r}|^2$ [norm.]')\n",
        "plt.show()"
      ],
      "execution_count": 40,
      "outputs": [
        {
          "output_type": "stream",
          "text": [
            "/usr/local/lib/python3.6/dist-packages/matplotlib/transforms.py:789: ComplexWarning: Casting complex values to real discards the imaginary part\n",
            "  points = np.array(args, dtype=float).reshape(2, 2)\n"
          ],
          "name": "stderr"
        },
        {
          "output_type": "display_data",
          "data": {
            "image/png": "[encoded data removed]",
            "text/plain": [
              "<Figure size 432x288 with 1 Axes>"
            ]
          },
          "metadata": {
            "tags": [],
            "needs_background": "light"
          }
        }
      ]
    },
    {
      "cell_type": "markdown",
      "metadata": {
        "id": "ApqysggZ9n_w"
      },
      "source": [
        "It is well known from the standard beam splitter interference experiments performed by [Hong, Ou and Mandel](https://en.wikipedia.org/wiki/Hong%E2%80%93Ou%E2%80%93Mandel_effect) (1987) that phenomena of quantum interference only arise for indistinguishable bosons. When photons become distingushable in any DoF (i.e. have different quantum numbers) they no longer show such interesting properties. Thus in the given context we might investigate the role of the quantum interference a little bit closer. For instance we could ask what happens, if the photons in a QFP become distinguishable, e.g. by their polarization. Does that have any major consequences on the deep learning performance of the device? \n",
        "\n",
        "To investigate such questions, suppose we are able to prepare a quantum state of two photons which have same different polarization, but have the same properties in every other degree of freedom. In the frequency bin setup we are able to adiabatically tune the quantum interference by adjusting the relativ polarisation of the photons. A state where the photons can be perfectly distinguished may be written as $\\ket{dist} = a^{\\dagger}_{rV} a^{\\dagger}_{rH} \\ket{vac}$ where $H,V$ denote horizontal and vertical polarisation, respectivley."
      ]
    },
    {
      "cell_type": "markdown",
      "metadata": {
        "id": "Gleq8A_MCKui"
      },
      "source": [
        "**Further research:** Besides one and two photon inputs, we might ask what happens if we feed the QFP with other highly non-classical states of ligth. Such states might GHZ, noon states, squeezed states, ..."
      ]
    },
    {
      "cell_type": "markdown",
      "metadata": {
        "id": "LqnsuZghX--G"
      },
      "source": [
        "# Classical Frequency Processor (CFP)"
      ]
    },
    {
      "cell_type": "markdown",
      "metadata": {
        "id": "Hrq2m-MiX--I"
      },
      "source": [
        "Now, that we have considered the quantum case, we shall examine a classical frequency processor (CFP). Such a device is very similar to the QFP, the only difference being that it operates with classical states of light and usually at higher intensities. Just like in the quantum case we can have \"classical\" interference between the different frequency bins which is due to the frequncy mixing of the EOM. Due to this observation the following fundamental question arises: can we perform certain deep learning tasks on a CFP just as good as on a QFP? \n",
        "\n",
        "Of course it is possible to describe a CFP with classical fields. Here we choose the same quantum framework as we previously encoutered for the QFP to analyse the CFP. This is possbile if we choose as input states of light that are sufficiently \"classical\" with relativley high intensities. Thus coherent states are a quite natural choice, as they are essentially laser light. \n",
        "\n",
        "Let's get somewhat techncial. A coherent state $\\ket{\\alpha} = D(\\alpha)\\ket{vac}$ can be described by applying the displacement operator to the vacuum. The displacement operator is defined by $D(\\alpha) = \\exp \\big(\\sum_{r=0}^{M-1} \\alpha_{r} a^{\\dagger}_{r}+ \\alpha_{r}^{*} a_{r} \\big)$. It's a reasonable choice to feed the CFP with some \"classical\" input state, where each frequency bin is uniformly populated by the intensity $I_{r} \\propto |\\alpha_{r}|^{2}$. Formally, this input state may be written as a collection of coherent states $\\ket{in} = \\ket{\\alpha}_{0} \\otimes \\dots \\otimes \\ket{\\alpha}_{M-1}$, with uniform $\\alpha \\in \\mathbb{C}$ for all frequency bins.\n",
        "\n",
        "To determine the output state of the CFP we have to revisit the tranfsormation rules for anihilation and creation operators. Previously we obtained the canonical transformation rule $a_{r} \\rightarrow a_{r}' = \\sum_{l} V_{rl} a_{l}$ for a single frequency bin in the QFP. Results for the CFP can be obtained in strict analogy by subsitution of the transformed operators into the displacement operator for coherent states $D(\\alpha) \\rightarrow D(\\alpha') = \\exp(\\sum_{r}\\alpha_{r}' a_{r} + \\text{h.c.})$ we get some collection of coherent states again. The complex parameters of the resulting coherent states are given by $\\alpha_{r}' = \\sum_{l} V_{rl} \\alpha_{l}$. Form this we can obatin the ouput intensity distribution by $I_{r}' \\propto |\\alpha_{r}'|^{2}$."
      ]
    },
    {
      "cell_type": "code",
      "metadata": {
        "id": "FamkNPpsX--K"
      },
      "source": [
        "n_layers, n_bins = 2, 16  # defines the architecture of the CFP\n",
        "mod_depth = 1"
      ],
      "execution_count": 41,
      "outputs": []
    },
    {
      "cell_type": "code",
      "metadata": {
        "id": "tR7tG1tiX--Q"
      },
      "source": [
        "def unitaryV(parameters_ps, parameters_em) :\n",
        "    V = np.eye(n_bins, dtype='complex64')\n",
        "    for layer in range(0, n_layers) :\n",
        "        U_em = em_unitaryFD(parameters_em[layer], mod_depth, n_bins)\n",
        "        U_ps = ps_unitaryFD(parameters_ps[layer], n_bins)\n",
        "        V = V @ U_ps @ U_em\n",
        "    return V"
      ],
      "execution_count": 42,
      "outputs": []
    },
    {
      "cell_type": "code",
      "metadata": {
        "id": "RlsjWjiNX--U"
      },
      "source": [
        "# uniform intensity distribution\n",
        "def classical_input(n_bins) :\n",
        "  input_state = np.ones(n_bins)\n",
        "  input_state /= np.sqrt(sum(input_state))\n",
        "  return input_state"
      ],
      "execution_count": 43,
      "outputs": []
    },
    {
      "cell_type": "code",
      "metadata": {
        "id": "1WIusf-RX--X",
        "outputId": "ec28c980-ccb9-4ef2-ad68-ed623ef73da9",
        "colab": {
          "base_uri": "https://localhost:8080/"
        }
      },
      "source": [
        "# testing if input distribution is normalized to 1\n",
        "input_distribution = state_to_statistics(classical_input(n_bins))\n",
        "is_normalized = np.allclose(sum(input_distribution), 1)\n",
        "print('classical_input_distribution() returns a normalized distribution: ' + str(is_normalized))"
      ],
      "execution_count": 44,
      "outputs": [
        {
          "output_type": "stream",
          "text": [
            "classical_input_distribution() returns a normalized distribution: True\n"
          ],
          "name": "stdout"
        }
      ]
    },
    {
      "cell_type": "code",
      "metadata": {
        "id": "fM-ceUtuX--a",
        "outputId": "2d3ad50c-9f02-4881-ea1a-00c897ac4452",
        "colab": {
          "base_uri": "https://localhost:8080/",
          "height": 299
        }
      },
      "source": [
        "# plotting the input intensities.\n",
        "fig, ax = plt.subplots()\n",
        "rects = ax.bar(np.arange(0, n_bins), input_distribution)\n",
        "plt.title(\"intensity input distribtion of the CFP\")\n",
        "plt.xlabel('frequency bin $r$')\n",
        "plt.ylabel('intensity $|\\\\alpha_{r}|^2$ [norm.]')\n",
        "plt.show()"
      ],
      "execution_count": 45,
      "outputs": [
        {
          "output_type": "display_data",
          "data": {
            "image/png": "[encoded data removed]",
            "text/plain": [
              "<Figure size 432x288 with 1 Axes>"
            ]
          },
          "metadata": {
            "tags": [],
            "needs_background": "light"
          }
        }
      ]
    },
    {
      "cell_type": "code",
      "metadata": {
        "id": "K_zx_HJMX--e"
      },
      "source": [
        "def classical_output(parameters, mod_depth, n_bins) :\n",
        "  parameters_ps, parameters_em = unpack(parameters, mod_depth)\n",
        "  V = unitaryV(parameters_ps, parameters_em)\n",
        "  output_state = V @ classical_input(n_bins)\n",
        "  return output_state"
      ],
      "execution_count": 46,
      "outputs": []
    },
    {
      "cell_type": "code",
      "metadata": {
        "id": "qknGnbkDwZl_"
      },
      "source": [
        "def costfunction(parameters) :\n",
        "  cost = 0\n",
        "  actual = state_to_statistics(classical_output(parameters, mod_depth, n_bins))\n",
        "  target = gaussian()\n",
        "  for i in range(0, n_bins) :\n",
        "    cost += (actual[i] - target[i])**2\n",
        "  return cost"
      ],
      "execution_count": 47,
      "outputs": []
    },
    {
      "cell_type": "code",
      "metadata": {
        "id": "lZO3khguvmak",
        "outputId": "6e3ee108-be70-40dc-8ecd-cfd13cd25252",
        "colab": {
          "base_uri": "https://localhost:8080/"
        }
      },
      "source": [
        "optimized_parameters = optimize_pso(costfunction, n_layers, n_bins, mod_depth)"
      ],
      "execution_count": 48,
      "outputs": [
        {
          "output_type": "stream",
          "text": [
            "Fuzzy Self-Tuning PSO - v1.7.10\n",
            " * Max distance: 39.271697\n",
            " * Search space boundaries set to: [[0, 6.283185307179586], [0, 6.283185307179586], [0, 6.283185307179586], [0, 6.283185307179586], [0, 6.283185307179586], [0, 6.283185307179586], [0, 6.283185307179586], [0, 6.283185307179586], [0, 6.283185307179586], [0, 6.283185307179586], [0, 6.283185307179586], [0, 6.283185307179586], [0, 6.283185307179586], [0, 6.283185307179586], [0, 6.283185307179586], [0, 6.283185307179586], [0, 6.283185307179586], [0, 6.283185307179586], [0, 6.283185307179586], [0, 6.283185307179586], [0, 6.283185307179586], [0, 6.283185307179586], [0, 6.283185307179586], [0, 6.283185307179586], [0, 6.283185307179586], [0, 6.283185307179586], [0, 6.283185307179586], [0, 6.283185307179586], [0, 6.283185307179586], [0, 6.283185307179586], [0, 6.283185307179586], [0, 6.283185307179586], [0.0, 10.0], [0, 6.283185307179586], [0.0, 10.0], [0, 6.283185307179586]]\n",
            " * Max velocities set to: [6.283185307179586, 6.283185307179586, 6.283185307179586, 6.283185307179586, 6.283185307179586, 6.283185307179586, 6.283185307179586, 6.283185307179586, 6.283185307179586, 6.283185307179586, 6.283185307179586, 6.283185307179586, 6.283185307179586, 6.283185307179586, 6.283185307179586, 6.283185307179586, 6.283185307179586, 6.283185307179586, 6.283185307179586, 6.283185307179586, 6.283185307179586, 6.283185307179586, 6.283185307179586, 6.283185307179586, 6.283185307179586, 6.283185307179586, 6.283185307179586, 6.283185307179586, 6.283185307179586, 6.283185307179586, 6.283185307179586, 6.283185307179586, 10.0, 6.283185307179586, 10.0, 6.283185307179586]\n",
            " * Number of particles automatically set to 22\n",
            " * Swarm size now set to 100 particles\n",
            " * 100 particles created.\n",
            " * FST-PSO will now assess the local and global best particles.\n",
            " * New best particle in the swarm is #0 with fitness 0.160623 (it: 0).\n",
            " * New best particle in the swarm is #1 with fitness 0.117054 (it: 0).\n",
            " * New best particle in the swarm is #3 with fitness 0.099134 (it: 0).\n",
            " * New best particle in the swarm is #6 with fitness 0.075632 (it: 0).\n",
            " * New best particle in the swarm is #59 with fitness 0.058310 (it: 0).\n",
            "\n",
            " *** All prepared, launching optimization ***\n",
            " * New best particle in the swarm is #22 with fitness 0.038411 (it: 1).\n",
            " * New best particle in the swarm is #37 with fitness 0.028698 (it: 3).\n",
            " * New best particle in the swarm is #40 with fitness 0.022520 (it: 3).\n",
            " * New best particle in the swarm is #98 with fitness 0.020825 (it: 7).\n",
            " * New best particle in the swarm is #2 with fitness 0.017580 (it: 8).\n",
            " * New best particle in the swarm is #56 with fitness 0.014743 (it: 8).\n",
            " * New best particle in the swarm is #24 with fitness 0.013139 (it: 9).\n",
            " * New best particle in the swarm is #5 with fitness 0.011597 (it: 10).\n",
            " * New best particle in the swarm is #34 with fitness 0.009194 (it: 10).\n",
            " * New best particle in the swarm is #3 with fitness 0.008987 (it: 11).\n",
            " * New best particle in the swarm is #57 with fitness 0.007048 (it: 11).\n",
            " * New best particle in the swarm is #0 with fitness 0.006620 (it: 12).\n",
            " * New best particle in the swarm is #9 with fitness 0.006456 (it: 12).\n",
            " * New best particle in the swarm is #3 with fitness 0.006166 (it: 13).\n",
            " * New best particle in the swarm is #9 with fitness 0.006132 (it: 13).\n",
            " * New best particle in the swarm is #31 with fitness 0.005702 (it: 13).\n",
            " * New best particle in the swarm is #56 with fitness 0.004428 (it: 13).\n",
            " * New best particle in the swarm is #78 with fitness 0.004420 (it: 13).\n",
            " * New best particle in the swarm is #19 with fitness 0.004247 (it: 15).\n",
            " * New best particle in the swarm is #26 with fitness 0.004048 (it: 15).\n",
            " * New best particle in the swarm is #25 with fitness 0.002814 (it: 16).\n",
            " * New best particle in the swarm is #8 with fitness 0.002784 (it: 18).\n",
            " * New best particle in the swarm is #72 with fitness 0.002336 (it: 18).\n",
            " * New best particle in the swarm is #98 with fitness 0.002245 (it: 19).\n",
            " * New best particle in the swarm is #29 with fitness 0.002212 (it: 21).\n",
            " * New best particle in the swarm is #17 with fitness 0.002158 (it: 22).\n",
            " * New best particle in the swarm is #82 with fitness 0.001722 (it: 22).\n",
            " * New best particle in the swarm is #84 with fitness 0.001619 (it: 23).\n",
            " * New best particle in the swarm is #2 with fitness 0.001320 (it: 25).\n",
            " * New best particle in the swarm is #20 with fitness 0.001283 (it: 25).\n",
            " * New best particle in the swarm is #5 with fitness 0.001246 (it: 26).\n",
            " * New best particle in the swarm is #7 with fitness 0.001210 (it: 26).\n",
            " * New best particle in the swarm is #84 with fitness 0.001172 (it: 26).\n",
            " * 27th iteration out of 250 completed. [###                           ]\n",
            " * New best particle in the swarm is #0 with fitness 0.001140 (it: 28).\n",
            " * New best particle in the swarm is #8 with fitness 0.001123 (it: 29).\n",
            " * New best particle in the swarm is #18 with fitness 0.001086 (it: 29).\n",
            " * New best particle in the swarm is #24 with fitness 0.001078 (it: 29).\n",
            " * New best particle in the swarm is #96 with fitness 0.001069 (it: 29).\n",
            " * New best particle in the swarm is #22 with fitness 0.001041 (it: 30).\n",
            " * New best particle in the swarm is #43 with fitness 0.001025 (it: 30).\n",
            " * 31th iteration out of 250 completed. [###                           ]\n",
            " * New best particle in the swarm is #44 with fitness 0.001012 (it: 31).\n",
            " * New best particle in the swarm is #1 with fitness 0.001008 (it: 32).\n",
            " * New best particle in the swarm is #15 with fitness 0.001002 (it: 32).\n",
            " * New best particle in the swarm is #71 with fitness 0.000973 (it: 32).\n",
            " * New best particle in the swarm is #77 with fitness 0.000972 (it: 32).\n",
            " * New best particle in the swarm is #34 with fitness 0.000970 (it: 33).\n",
            " * New best particle in the swarm is #69 with fitness 0.000965 (it: 33).\n",
            " * New best particle in the swarm is #1 with fitness 0.000936 (it: 34).\n",
            " * New best particle in the swarm is #63 with fitness 0.000933 (it: 34).\n",
            " * New best particle in the swarm is #81 with fitness 0.000855 (it: 34).\n",
            " * 35th iteration out of 250 completed. [####                          ]\n",
            " * New best particle in the swarm is #69 with fitness 0.000833 (it: 35).\n",
            " * New best particle in the swarm is #81 with fitness 0.000823 (it: 36).\n",
            " * New best particle in the swarm is #51 with fitness 0.000819 (it: 37).\n",
            " * New best particle in the swarm is #0 with fitness 0.000795 (it: 38).\n",
            " * New best particle in the swarm is #17 with fitness 0.000771 (it: 39).\n",
            " * New best particle in the swarm is #45 with fitness 0.000744 (it: 40).\n",
            " * 41th iteration out of 250 completed. [####                          ]\n",
            " * New best particle in the swarm is #51 with fitness 0.000719 (it: 41).\n",
            " * New best particle in the swarm is #59 with fitness 0.000708 (it: 42).\n",
            " * New best particle in the swarm is #67 with fitness 0.000697 (it: 42).\n",
            " * New best particle in the swarm is #59 with fitness 0.000672 (it: 43).\n",
            " * New best particle in the swarm is #25 with fitness 0.000667 (it: 44).\n",
            " * New best particle in the swarm is #58 with fitness 0.000663 (it: 44).\n",
            " * New best particle in the swarm is #66 with fitness 0.000661 (it: 44).\n",
            " * New best particle in the swarm is #58 with fitness 0.000658 (it: 45).\n",
            " * New best particle in the swarm is #80 with fitness 0.000648 (it: 45).\n",
            " * New best particle in the swarm is #25 with fitness 0.000643 (it: 46).\n",
            " * New best particle in the swarm is #91 with fitness 0.000607 (it: 46).\n",
            " * New best particle in the swarm is #25 with fitness 0.000578 (it: 47).\n",
            " * New best particle in the swarm is #70 with fitness 0.000558 (it: 48).\n",
            " * New best particle in the swarm is #4 with fitness 0.000542 (it: 49).\n",
            " * New best particle in the swarm is #86 with fitness 0.000542 (it: 49).\n",
            " * 50th iteration out of 250 completed. [######                        ]\n",
            " * New best particle in the swarm is #16 with fitness 0.000519 (it: 50).\n",
            " * New best particle in the swarm is #89 with fitness 0.000503 (it: 50).\n",
            " * New best particle in the swarm is #7 with fitness 0.000490 (it: 51).\n",
            " * New best particle in the swarm is #81 with fitness 0.000485 (it: 51).\n",
            " * New best particle in the swarm is #7 with fitness 0.000475 (it: 52).\n",
            " * New best particle in the swarm is #22 with fitness 0.000439 (it: 52).\n",
            " * New best particle in the swarm is #34 with fitness 0.000434 (it: 54).\n",
            " * New best particle in the swarm is #82 with fitness 0.000423 (it: 55).\n",
            " * New best particle in the swarm is #89 with fitness 0.000414 (it: 55).\n",
            " * New best particle in the swarm is #82 with fitness 0.000403 (it: 56).\n",
            " * New best particle in the swarm is #13 with fitness 0.000401 (it: 57).\n",
            " * New best particle in the swarm is #29 with fitness 0.000399 (it: 57).\n",
            " * New best particle in the swarm is #85 with fitness 0.000392 (it: 57).\n",
            " * New best particle in the swarm is #59 with fitness 0.000383 (it: 58).\n",
            " * New best particle in the swarm is #39 with fitness 0.000381 (it: 59).\n",
            " * New best particle in the swarm is #8 with fitness 0.000370 (it: 60).\n",
            " * New best particle in the swarm is #29 with fitness 0.000363 (it: 60).\n",
            " * New best particle in the swarm is #89 with fitness 0.000361 (it: 60).\n",
            " * New best particle in the swarm is #99 with fitness 0.000357 (it: 60).\n",
            " * 62th iteration out of 250 completed. [#######                       ]\n",
            " * New best particle in the swarm is #21 with fitness 0.000350 (it: 63).\n",
            " * New best particle in the swarm is #34 with fitness 0.000344 (it: 64).\n",
            " * New best particle in the swarm is #39 with fitness 0.000335 (it: 64).\n",
            " * New best particle in the swarm is #2 with fitness 0.000328 (it: 65).\n",
            " * New best particle in the swarm is #29 with fitness 0.000320 (it: 65).\n",
            " * New best particle in the swarm is #92 with fitness 0.000313 (it: 65).\n",
            " * New best particle in the swarm is #29 with fitness 0.000298 (it: 66).\n",
            " * New best particle in the swarm is #21 with fitness 0.000291 (it: 67).\n",
            " * New best particle in the swarm is #51 with fitness 0.000289 (it: 68).\n",
            " * New best particle in the swarm is #60 with fitness 0.000286 (it: 68).\n",
            " * New best particle in the swarm is #67 with fitness 0.000279 (it: 68).\n",
            " * New best particle in the swarm is #89 with fitness 0.000276 (it: 68).\n",
            " * New best particle in the swarm is #20 with fitness 0.000273 (it: 69).\n",
            " * New best particle in the swarm is #54 with fitness 0.000263 (it: 69).\n",
            " * New best particle in the swarm is #97 with fitness 0.000255 (it: 69).\n",
            " * New best particle in the swarm is #38 with fitness 0.000244 (it: 70).\n",
            " * New best particle in the swarm is #59 with fitness 0.000242 (it: 70).\n",
            " * New best particle in the swarm is #2 with fitness 0.000218 (it: 71).\n",
            " * New best particle in the swarm is #2 with fitness 0.000203 (it: 72).\n",
            " * New best particle in the swarm is #2 with fitness 0.000197 (it: 73).\n",
            " * New best particle in the swarm is #30 with fitness 0.000187 (it: 73).\n",
            " * New best particle in the swarm is #30 with fitness 0.000183 (it: 74).\n",
            " * New best particle in the swarm is #19 with fitness 0.000183 (it: 75).\n",
            " * New best particle in the swarm is #20 with fitness 0.000179 (it: 76).\n",
            " * New best particle in the swarm is #14 with fitness 0.000172 (it: 78).\n",
            " * New best particle in the swarm is #72 with fitness 0.000170 (it: 79).\n",
            " * New best particle in the swarm is #99 with fitness 0.000169 (it: 79).\n",
            " * New best particle in the swarm is #31 with fitness 0.000169 (it: 81).\n",
            " * New best particle in the swarm is #14 with fitness 0.000165 (it: 82).\n",
            " * New best particle in the swarm is #99 with fitness 0.000160 (it: 82).\n",
            " * 83th iteration out of 250 completed. [#########                     ]\n",
            " * New best particle in the swarm is #19 with fitness 0.000160 (it: 84).\n",
            " * New best particle in the swarm is #65 with fitness 0.000158 (it: 84).\n",
            " * New best particle in the swarm is #19 with fitness 0.000158 (it: 86).\n",
            " * New best particle in the swarm is #48 with fitness 0.000157 (it: 86).\n",
            " * New best particle in the swarm is #65 with fitness 0.000156 (it: 86).\n",
            " * New best particle in the swarm is #14 with fitness 0.000154 (it: 87).\n",
            " * New best particle in the swarm is #60 with fitness 0.000153 (it: 87).\n",
            " * New best particle in the swarm is #65 with fitness 0.000153 (it: 88).\n",
            " * New best particle in the swarm is #78 with fitness 0.000151 (it: 88).\n",
            " * New best particle in the swarm is #77 with fitness 0.000149 (it: 94).\n",
            " * New best particle in the swarm is #66 with fitness 0.000148 (it: 95).\n",
            " * New best particle in the swarm is #72 with fitness 0.000147 (it: 96).\n",
            " * New best particle in the swarm is #3 with fitness 0.000146 (it: 97).\n",
            " * New best particle in the swarm is #22 with fitness 0.000141 (it: 97).\n",
            " * New best particle in the swarm is #76 with fitness 0.000137 (it: 98).\n",
            " * New best particle in the swarm is #72 with fitness 0.000136 (it: 100).\n",
            " * New best particle in the swarm is #82 with fitness 0.000132 (it: 102).\n",
            " * New best particle in the swarm is #15 with fitness 0.000131 (it: 103).\n",
            " * New best particle in the swarm is #72 with fitness 0.000128 (it: 104).\n",
            " * New best particle in the swarm is #98 with fitness 0.000125 (it: 112).\n",
            " * New best particle in the swarm is #60 with fitness 0.000122 (it: 113).\n",
            " * New best particle in the swarm is #26 with fitness 0.000121 (it: 114).\n",
            " * New best particle in the swarm is #81 with fitness 0.000121 (it: 114).\n",
            " * New best particle in the swarm is #43 with fitness 0.000120 (it: 117).\n",
            " * New best particle in the swarm is #81 with fitness 0.000119 (it: 118).\n",
            " * New best particle in the swarm is #8 with fitness 0.000116 (it: 121).\n",
            " * New best particle in the swarm is #3 with fitness 0.000116 (it: 122).\n",
            " * New best particle in the swarm is #72 with fitness 0.000115 (it: 122).\n",
            " * New best particle in the swarm is #72 with fitness 0.000112 (it: 123).\n",
            " * New best particle in the swarm is #81 with fitness 0.000110 (it: 124).\n",
            " * 125th iteration out of 250 completed. [###############               ]\n",
            " * New best particle in the swarm is #81 with fitness 0.000109 (it: 125).\n",
            " * New best particle in the swarm is #97 with fitness 0.000109 (it: 125).\n",
            " * New best particle in the swarm is #2 with fitness 0.000109 (it: 126).\n",
            " * New best particle in the swarm is #2 with fitness 0.000108 (it: 128).\n",
            " * New best particle in the swarm is #62 with fitness 0.000107 (it: 138).\n",
            " * New best particle in the swarm is #91 with fitness 0.000107 (it: 138).\n",
            " * New best particle in the swarm is #19 with fitness 0.000105 (it: 141).\n",
            " * New best particle in the swarm is #2 with fitness 0.000105 (it: 142).\n",
            " * New best particle in the swarm is #78 with fitness 0.000104 (it: 142).\n",
            " * New best particle in the swarm is #72 with fitness 0.000103 (it: 143).\n",
            " * New best particle in the swarm is #61 with fitness 0.000102 (it: 151).\n",
            " * New best particle in the swarm is #22 with fitness 0.000102 (it: 152).\n",
            " * New best particle in the swarm is #65 with fitness 0.000101 (it: 153).\n",
            " * New best particle in the swarm is #61 with fitness 0.000101 (it: 163).\n",
            " * New best particle in the swarm is #0 with fitness 0.000101 (it: 166).\n",
            " * New best particle in the swarm is #44 with fitness 0.000100 (it: 167).\n",
            " * New best particle in the swarm is #4 with fitness 0.000100 (it: 168).\n",
            " * New best particle in the swarm is #65 with fitness 0.000099 (it: 168).\n",
            " * New best particle in the swarm is #15 with fitness 0.000099 (it: 179).\n",
            " * New best particle in the swarm is #2 with fitness 0.000097 (it: 187).\n",
            " * New best particle in the swarm is #38 with fitness 0.000097 (it: 194).\n",
            " * New best particle in the swarm is #75 with fitness 0.000096 (it: 195).\n",
            " * New best particle in the swarm is #57 with fitness 0.000096 (it: 199).\n",
            " * New best particle in the swarm is #38 with fitness 0.000096 (it: 202).\n",
            " * New best particle in the swarm is #4 with fitness 0.000095 (it: 203).\n",
            " * New best particle in the swarm is #2 with fitness 0.000095 (it: 205).\n",
            " * New best particle in the swarm is #31 with fitness 0.000092 (it: 205).\n",
            " * New best particle in the swarm is #4 with fitness 0.000092 (it: 210).\n",
            " * New best particle in the swarm is #69 with fitness 0.000091 (it: 211).\n",
            " * New best particle in the swarm is #79 with fitness 0.000089 (it: 213).\n",
            " * New best particle in the swarm is #91 with fitness 0.000089 (it: 227).\n",
            " * New best particle in the swarm is #99 with fitness 0.000088 (it: 244).\n",
            " * New best particle in the swarm is #60 with fitness 0.000088 (it: 248).\n",
            " * 250th iteration out of 250 completed. [##############################]\n"
          ],
          "name": "stdout"
        }
      ]
    },
    {
      "cell_type": "code",
      "metadata": {
        "id": "VfTgQYcIRsGY",
        "outputId": "c23d92d0-1c11-479a-9262-2b07dc2a860f",
        "colab": {
          "base_uri": "https://localhost:8080/"
        }
      },
      "source": [
        "# testing if the output distribution is normalized to 1\n",
        "output_distribution = state_to_statistics(classical_output(optimized_parameters[0].X, mod_depth, n_bins))\n",
        "is_normalized = np.allclose(sum(output_distribution), 1)\n",
        "print('classical_input_distribution() returns a normalized distribution: ' + str(is_normalized))"
      ],
      "execution_count": 49,
      "outputs": [
        {
          "output_type": "stream",
          "text": [
            "classical_input_distribution() returns a normalized distribution: True\n"
          ],
          "name": "stdout"
        }
      ]
    },
    {
      "cell_type": "code",
      "metadata": {
        "id": "HX3p5jTVqg5C",
        "outputId": "fcfb13c2-8fa8-4011-ba09-79a95928a0c7",
        "colab": {
          "base_uri": "https://localhost:8080/",
          "height": 299
        }
      },
      "source": [
        "# plotting the output intensities.\n",
        "fig, ax = plt.subplots()\n",
        "rects = ax.bar(np.arange(0, n_bins), output_distribution)\n",
        "plt.title(\"intensity output distribtion of the CFP\")\n",
        "plt.xlabel('frequency bin $r$')\n",
        "plt.ylabel('intensity $|\\\\alpha_{r}|^2$ [norm.]')\n",
        "plt.show()\n"
      ],
      "execution_count": 50,
      "outputs": [
        {
          "output_type": "display_data",
          "data": {
            "image/png": "[encoded data removed]",
            "text/plain": [
              "<Figure size 432x288 with 1 Axes>"
            ]
          },
          "metadata": {
            "tags": [],
            "needs_background": "light"
          }
        }
      ]
    },
    {
      "cell_type": "markdown",
      "metadata": {
        "id": "6CUTSwT-Fo6e"
      },
      "source": [
        "**Future research:** Yet, we have considered states at the border between quantum and classical regime, i.e. coherent states. What happens if we feed the CFP with other \"classical\" states of light that show lower degrees of coherence? This question seems especially important if we want to quantify the robustness of our device against thermal noise and decoherence. Future investigation could involve mixtures of coherent states $\\rho = \\frac{1}{2}(\\ket{\\alpha} \\bra{\\alpha} + \\ket{\\beta} \\bra{\\beta})$ ($\\alpha \\neq \\beta$) as well as partially thermalized coherent states."
      ]
    },
    {
      "cell_type": "markdown",
      "metadata": {
        "id": "JpzFy1rwield"
      },
      "source": [
        "# Statistical Evaluation"
      ]
    },
    {
      "cell_type": "code",
      "metadata": {
        "id": "HSpKfhtyw1U5"
      },
      "source": [
        "# results for QFP with one photon"
      ],
      "execution_count": 51,
      "outputs": []
    },
    {
      "cell_type": "code",
      "metadata": {
        "id": "yS-o6KQFw7IY"
      },
      "source": [
        "# results for QFP with two photons"
      ],
      "execution_count": 52,
      "outputs": []
    },
    {
      "cell_type": "code",
      "metadata": {
        "id": "GXBPzSmew_Vp"
      },
      "source": [
        "# results for CFP with coherent states"
      ],
      "execution_count": 53,
      "outputs": []
    }
  ]
}
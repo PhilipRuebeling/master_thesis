{
  "nbformat": 4,
  "nbformat_minor": 0,
  "metadata": {
    "colab": {
      "name": "photonic_devices.ipynb",
      "provenance": [],
      "collapsed_sections": [],
      "toc_visible": true,
      "authorship_tag": "ABX9TyPICtS08DrySVqelIlhHT1p",
      "include_colab_link": true
    },
    "kernelspec": {
      "name": "python3",
      "display_name": "Python 3"
    }
  },
  "cells": [
    {
      "cell_type": "markdown",
      "metadata": {
        "id": "view-in-github",
        "colab_type": "text"
      },
      "source": [
        "<a href=\"https://colab.research.google.com/github/PhilipRuebeling/master_thesis/blob/main/photonic_devices.ipynb\" target=\"_parent\"><img src=\"https://colab.research.google.com/assets/colab-badge.svg\" alt=\"Open In Colab\"/></a>"
      ]
    },
    {
      "cell_type": "markdown",
      "metadata": {
        "id": "2CNaETzk-Ubt"
      },
      "source": [
        "$$\\newcommand{\\ket}[1]{\\left|{#1}\\right\\rangle}\\newcommand{\\bra}[1]{\\left\\langle\n",
        "{#1}\\right|}$$"
      ]
    },
    {
      "cell_type": "code",
      "metadata": {
        "id": "nxUQfF3g580A"
      },
      "source": [
        "%pip install fst-pso  # particle swarm optimization"
      ],
      "execution_count": null,
      "outputs": []
    },
    {
      "cell_type": "code",
      "metadata": {
        "id": "65drSZ8byEkA"
      },
      "source": [
        "import numpy as np\n",
        "import fstpso as fp\n",
        "\n",
        "import scipy.special\n"
      ],
      "execution_count": null,
      "outputs": []
    },
    {
      "cell_type": "markdown",
      "metadata": {
        "id": "GTzX_1tIgsFB"
      },
      "source": [
        "# Electro-optic modulator (EOM)\n"
      ]
    },
    {
      "cell_type": "markdown",
      "metadata": {
        "id": "l7oIj7EygsFD"
      },
      "source": [
        "The phase modulation of an [electro-optic modulator](https://en.wikipedia.org/wiki/Electro-optic_modulator) is described by its driving voltage\n",
        "\n",
        "$a(t) = \\sum_{k=1}^{m} a_{k}\\sin(\\Omega_{k} t + \\varphi_{k})$\n",
        "\n",
        "Here we call $m = 1, 2, \\dots$ the modulation depth. When we concentrate on single-tone modulation we will set this to be equal to $1$.\n",
        "\n",
        "$a^{\\dagger}_{r} \\rightarrow Sa^{\\dagger}_{r}S^{\\dagger} = \\sum_{q} (-ie^{-i\\vartheta})^{q} J_{q}(m)a^{\\dagger}_{r+q}$."
      ]
    },
    {
      "cell_type": "code",
      "metadata": {
        "id": "jqdHSb5TgsFD"
      },
      "source": [
        "global mod_depth = 1     # modulation depth\n",
        "global a_min = 00.00     # minimal modulation amplitude\n",
        "global a_max = 10.00     # maximal modulation amplitude"
      ],
      "execution_count": null,
      "outputs": []
    },
    {
      "cell_type": "markdown",
      "metadata": {
        "id": "raj4GTmFgsFK"
      },
      "source": [
        "This defines the unitary in time domain (TD)."
      ]
    },
    {
      "cell_type": "code",
      "metadata": {
        "id": "cp1hoYdhgsFL"
      },
      "source": [
        "def unitaryTD(parameters, mod_depth, n_bins) :\n",
        "    U = np.zeros(shape=(n_bins, n_bins), dtype=\"complex64\")\n",
        "    amplitude, phase = parameters\n",
        "    for i in range(0, d):\n",
        "        U[i][i] += np.exp(1j*(amplitude*np.sin(np.pi*i/d + phase)))\n",
        "    return U"
      ],
      "execution_count": null,
      "outputs": []
    },
    {
      "cell_type": "code",
      "metadata": {
        "id": "H-WWDWdPgsFO"
      },
      "source": [
        "# testing if unitaryTD returns a unitary matrix\n",
        "U = np.around(unitaryTD(parameters, mod_depth, n_bins), decimals=9)\n",
        "is_unitary = np.allclose(np.eye(n_bins), U @ RT.adjoint(U))\n",
        "print('unitaryTD() returns a unitary matrix: ' + str(is_unitary))"
      ],
      "execution_count": null,
      "outputs": []
    },
    {
      "cell_type": "markdown",
      "metadata": {
        "id": "IeZIPCCUgsFR"
      },
      "source": [
        "Plotting the modulation signal"
      ]
    },
    {
      "cell_type": "code",
      "metadata": {
        "id": "KhLpcvC7gsFS"
      },
      "source": [
        "def plot_modulation(parameters, mod_depth, n_bins) :\n",
        "    amplitude, phase = parameters\n",
        "    t = np.arange(0, 10*n_bins)\n",
        "    s = np.around(amplitude*np.sin(np.pi*t/n_bins + phase), decimals=9)\n",
        "    plt.title('modulation signal ot the EOM in TD')\n",
        "    plt.plot(t/n_bins, s)\n",
        "    plt.xlabel('time [norm.]')\n",
        "    plt.ylabel('driving voltage [arb.]')\n",
        "    plt.show()\n",
        "    plt.close()\n",
        "    pass"
      ],
      "execution_count": null,
      "outputs": []
    },
    {
      "cell_type": "code",
      "metadata": {
        "id": "GxS_JxZwgsFU"
      },
      "source": [
        "plot_modulation(parameters, mod_depth, n_bins)"
      ],
      "execution_count": null,
      "outputs": []
    },
    {
      "cell_type": "markdown",
      "metadata": {
        "id": "OaW4KUg8gsFX"
      },
      "source": [
        "Here is the corresponding unitary in frequency domain (FD)."
      ]
    },
    {
      "cell_type": "code",
      "metadata": {
        "id": "xx489czhgsFY"
      },
      "source": [
        "def unitaryFD(parameters, mod_depth, n_bins) :\n",
        "    F = dft(n_bins)/np.sqrt(n_bins)\n",
        "    U = unitaryTD(parameters, mod_depth, n_bins) #doesn't involve yet.\n",
        "    return F @ U @ RT.adjoint(F)"
      ],
      "execution_count": null,
      "outputs": []
    },
    {
      "cell_type": "code",
      "metadata": {
        "id": "AeHO-5LBgsFa"
      },
      "source": [
        "# testing if unitaryFD returns a unitary matrix\n",
        "U = np.around(unitaryFD(parameters, mod_depth, n_bins), decimals=9)\n",
        "is_unitary = np.allclose(np.eye(n_bins), U @ RT.adjoint(U))\n",
        "print('unitaryFD() returns a unitary matrix: ' + str(is_unitary))"
      ],
      "execution_count": null,
      "outputs": []
    },
    {
      "cell_type": "markdown",
      "metadata": {
        "id": "pb6cvkOggsFe"
      },
      "source": [
        ""
      ]
    },
    {
      "cell_type": "code",
      "metadata": {
        "id": "wt6j_6OBgsFe"
      },
      "source": [
        "# this function will not return some unitary matrix, \n",
        "# since we truncate the hilbert space\n",
        "def besselFD(parameters, n_bins, f=0.42) :\n",
        "    U = np.zeros(shape=(n_bins, n_bins), dtype='complex64')\n",
        "    amplitude, phase = parameters\n",
        "    for i in range(0, d) :\n",
        "        for j in range(0, d) :\n",
        "            if(np.abs(i-j) <= math.ceil(amplitude+2)) :\n",
        "                U[i][j] = special.jv(i-j, f*amplitude)*(-1j*np.exp(-1j*phase))**(i-j)\n",
        "    return U"
      ],
      "execution_count": null,
      "outputs": []
    },
    {
      "cell_type": "markdown",
      "metadata": {
        "id": "ri0YreV7h1Lh"
      },
      "source": [
        ""
      ]
    },
    {
      "cell_type": "markdown",
      "metadata": {
        "id": "2SeJosTngx-M"
      },
      "source": [
        "# Phase Shaper (PS)\n",
        "\n"
      ]
    },
    {
      "cell_type": "markdown",
      "metadata": {
        "id": "w9E9S1SbhNy3"
      },
      "source": [
        "TODO: explain how the PS works."
      ]
    },
    {
      "cell_type": "code",
      "metadata": {
        "id": "4KmesBaxgx-O"
      },
      "source": [
        "def unitaryFD(parameters, n_bins) :\n",
        "    U = np.array(np.zeros(shape=(n_bins, n_bins)), dtype='complex64')\n",
        "    for i in range(0, n_bins):\n",
        "        U[i][i] = np.exp(1j*theta[i])\n",
        "    return U"
      ],
      "execution_count": null,
      "outputs": []
    },
    {
      "cell_type": "code",
      "metadata": {
        "id": "VS2yv7Bsgx-S"
      },
      "source": [
        "# testing if unitaryFD returns a unitary matrix\n",
        "U = np.around(unitaryFD(parameters, n_bins), decimals=9)\n",
        "is_unitary = np.allclose(np.eye(n_bins), U @ RT.adjoint(U))\n",
        "print('unitaryFD() returns a unitary matrix: ' + str(is_unitary))"
      ],
      "execution_count": null,
      "outputs": []
    },
    {
      "cell_type": "markdown",
      "metadata": {
        "id": "NYcvgcYDhhUP"
      },
      "source": [
        "# Classical Frequency Processor (CFP)"
      ]
    },
    {
      "cell_type": "markdown",
      "metadata": {
        "id": "7BcI8CxMhhUR"
      },
      "source": [
        "Before we consider the quantum case, we shall examine a frequency processor that operates with classical intensities. Just like in the quantum case we can have \"classical\" interference between the different frequency bins which is due to the frequncy mixing of an EOM. Therefore it seems an interesting question, if we can perform certain deep learning tasks on a CFP just as good as on a QFP.\n",
        "\n",
        "Of course it is possible to describe a CFP with classical fields. Here we choose the same quantum framework as we previously encoutered for the QFP to analyse the CFP. This is possbile if we choose as input states of light that are sufficiently \"classical\" with relativley high intensities. Thus coherent states are a quite natural choice, as they are essentially \"laser light\". \n",
        "\n",
        "Of course we could choose other states, epecially mixed states, where we no longer operate in the regime of \"pure\" coherence. For such states, we expect the interference to become negible. Thus no photon interactions are possible and we expect the CFP to perform bad in deep learning tasks, due to the lack of flexibility of the underlying stochastic model.\n",
        "\n",
        "Let's get somewhat techncial. A coherent state $\\ket{\\alpha} = D(\\alpha)\\ket{vac}$ can be described by applying the displacement operator, which is defined by $D(\\alpha) = \\exp (\\sum_{r=0}^{M-1} \\alpha_{r} a^{\\dagger}_{r}+ \\alpha_{r}^{*} a_{r})$, to the vacuum. We shall assume, that our CFP is fed with an \"classical\" input state, where each frequency bin is uniformly populated by some intensity proportional to $|\\alpha|^{2}$. This input state may be written as $\\ket{in} = \\ket{\\alpha}_{0} \\otimes \\dots \\otimes \\ket{\\alpha}_{M-1}$."
      ]
    },
    {
      "cell_type": "code",
      "metadata": {
        "id": "uPvrAsq9hhUS"
      },
      "source": [
        "global n_layers, n_bins = 4, 32  # defines the architecture of the CFP"
      ],
      "execution_count": null,
      "outputs": []
    },
    {
      "cell_type": "code",
      "metadata": {
        "id": "Qo6L3MVFhhUX"
      },
      "source": [
        "def unitaryV(parameters_ps, parameters_em) :\n",
        "    V = np.eye(bins, dtype='complex64')\n",
        "    for layer in range(0, n_layers) :\n",
        "        U_em = em.unitaryFD(parameters_em[layer], mod_depth, n_bins)\n",
        "        U_ps = ps.unitaryFD(parameters_ps[layer], n_bins)\n",
        "        V = V @ U_ps @ U_eom\n",
        "    return V"
      ],
      "execution_count": null,
      "outputs": []
    },
    {
      "cell_type": "markdown",
      "metadata": {
        "id": "fTjEW3qjpyM2"
      },
      "source": [
        ""
      ]
    },
    {
      "cell_type": "code",
      "metadata": {
        "id": "PEB30TjGiqVv"
      },
      "source": [
        "def classical_input() :\n",
        "  "
      ],
      "execution_count": null,
      "outputs": []
    },
    {
      "cell_type": "markdown",
      "metadata": {
        "id": "oVU7oG_7gLB7"
      },
      "source": [
        "# Quantum Frequency Processor (QFP)"
      ]
    },
    {
      "cell_type": "markdown",
      "metadata": {
        "id": "uVUAbakRqvV1"
      },
      "source": [
        "We might investigate the HOM interference a little bit closer. What happens, if the photons become distinguishable, e.g. by their polarization. It is well known from the beam splitter interference experiment performed by [Hong, Ou and Mandel](https://en.wikipedia.org/wiki/Hong%E2%80%93Ou%E2%80%93Mandel_effect) (1987), that "
      ]
    },
    {
      "cell_type": "code",
      "metadata": {
        "id": "HX3p5jTVqg5C"
      },
      "source": [
        ""
      ],
      "execution_count": null,
      "outputs": []
    },
    {
      "cell_type": "markdown",
      "metadata": {
        "id": "1oZ2xFczLnhJ"
      },
      "source": [
        "# Benchmarking with BAS22"
      ]
    },
    {
      "cell_type": "markdown",
      "metadata": {
        "id": "zOhjEV84weKs"
      },
      "source": [
        "BAS patterns\n"
      ]
    },
    {
      "cell_type": "markdown",
      "metadata": {
        "id": "-vrdIHKtiSeK"
      },
      "source": [
        ""
      ]
    },
    {
      "cell_type": "code",
      "metadata": {
        "id": "MlqVW7NBLwFW"
      },
      "source": [
        "def sample_bas22() :\n",
        "    bas = np.zeros(d)\n",
        "    bas[0], bas[3], bas[5], bas[10], bas[12], bas[15] = 1, 1, 1, 1, 1, 1\n",
        "    return bas/6"
      ],
      "execution_count": null,
      "outputs": []
    },
    {
      "cell_type": "markdown",
      "metadata": {
        "id": "G_0GumYohbKo"
      },
      "source": [
        ""
      ]
    },
    {
      "cell_type": "markdown",
      "metadata": {
        "id": "hoItX-fKt7ZP"
      },
      "source": [
        "# Optimization"
      ]
    },
    {
      "cell_type": "code",
      "metadata": {
        "id": "E0LwJoJLuoHQ"
      },
      "source": [
        "swarm_size = 100    # number of particles used in the PSO\n",
        "iterations = 100    # number of iterations in the PSO "
      ],
      "execution_count": null,
      "outputs": []
    },
    {
      "cell_type": "code",
      "metadata": {
        "id": "pB4WE26BuS8-"
      },
      "source": [
        "def optimize_circuit_fuzzypso(cost_function, search_space) :\n",
        "  FP = fp.FuzzyPSO()\n",
        "  FP.set_search_space(search_space)\n",
        "  FP.set_fitness(cost_function)  \n",
        "  FP.set_swarm_size(swarm_size)\n",
        "  best_solution, fitness = FP.solve_with_fstpso(max_iter=iterations)\n",
        "  return [best_solution, fitness]"
      ],
      "execution_count": null,
      "outputs": []
    },
    {
      "cell_type": "code",
      "metadata": {
        "id": "woANEIllvLfc"
      },
      "source": [
        "def setupSearchSpace(a_min, a_max) :\n",
        "    phase_range, amplitude_range = [0, 2*np.pi], [a_min, a_max]\n",
        "    search_space = []\n",
        "    for i in range(0, layers*n_bins) :\n",
        "        search_space.append(phase_range)\n",
        "    for i in range(0, layers*mod_depth) :\n",
        "        search_space.append(amplitude_range)\n",
        "        search_space.append(phase_range)\n",
        "    return search_space"
      ],
      "execution_count": null,
      "outputs": []
    },
    {
      "cell_type": "code",
      "metadata": {
        "id": "tKKfDYfHubiS"
      },
      "source": [
        "search_space = fp.setupSearchSpace(a_min, a_max)"
      ],
      "execution_count": null,
      "outputs": []
    },
    {
      "cell_type": "markdown",
      "metadata": {
        "id": "JpzFy1rwield"
      },
      "source": [
        "# Evaluation"
      ]
    },
    {
      "cell_type": "markdown",
      "metadata": {
        "id": "oM34PZxBihkc"
      },
      "source": [
        ""
      ]
    }
  ]
}
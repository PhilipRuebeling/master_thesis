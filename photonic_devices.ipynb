{
  "nbformat": 4,
  "nbformat_minor": 0,
  "metadata": {
    "colab": {
      "name": "photonic_devices.ipynb",
      "provenance": [],
      "collapsed_sections": [
        "2SeJosTngx-M"
      ],
      "toc_visible": true,
      "authorship_tag": "ABX9TyMhJujc3qx9rDzO7qxXWLqv",
      "include_colab_link": true
    },
    "kernelspec": {
      "name": "python3",
      "display_name": "Python 3"
    }
  },
  "cells": [
    {
      "cell_type": "markdown",
      "metadata": {
        "id": "view-in-github",
        "colab_type": "text"
      },
      "source": [
        "<a href=\"https://colab.research.google.com/github/PhilipRuebeling/master_thesis/blob/main/photonic_devices.ipynb\" target=\"_parent\"><img src=\"https://colab.research.google.com/assets/colab-badge.svg\" alt=\"Open In Colab\"/></a>"
      ]
    },
    {
      "cell_type": "markdown",
      "metadata": {
        "id": "2CNaETzk-Ubt"
      },
      "source": [
        "$$\\newcommand{\\ket}[1]{\\left|{#1}\\right\\rangle}\\newcommand{\\bra}[1]{\\left\\langle\n",
        "{#1}\\right|}$$"
      ]
    },
    {
      "cell_type": "code",
      "metadata": {
        "id": "nxUQfF3g580A"
      },
      "source": [
        "%pip install fst-pso  # particle swarm optimization"
      ],
      "execution_count": null,
      "outputs": []
    },
    {
      "cell_type": "code",
      "metadata": {
        "id": "65drSZ8byEkA"
      },
      "source": [
        "import numpy as np\n",
        "import fstpso as fp\n",
        "\n",
        "import matplotlib.pyplot as plt\n",
        "import scipy.special\n",
        "import math\n",
        "import numpy as np\n",
        "import itertools\n",
        "import pyswarms as ps\n",
        "import matplotlib.pyplot as plt\n",
        "from scipy.optimize import minimize\n",
        "from fstpso import FuzzyPSO\n",
        "from random import *"
      ],
      "execution_count": null,
      "outputs": []
    },
    {
      "cell_type": "markdown",
      "metadata": {
        "id": "ZeI7LXVKaVhS"
      },
      "source": [
        "# Routines\n"
      ]
    },
    {
      "cell_type": "code",
      "metadata": {
        "id": "AF5j_3Vda2pQ"
      },
      "source": [
        "def adjoint(A) :\n",
        "    return np.transpose(np.conjugate(A))"
      ],
      "execution_count": null,
      "outputs": []
    },
    {
      "cell_type": "code",
      "metadata": {
        "id": "eIsm2tiqagml"
      },
      "source": [
        "def pack(parameters_ps, parameters_em, mod_depth) :\n",
        "    parameters = []\n",
        "    for k in range(0, n_layers*n_bins) :\n",
        "        parameters.append(thetaPS[(k//n_bins)][(k%n_bins)])\n",
        "    for k in range(0, 2*n_layers*mod_depth) :\n",
        "        parameters.append(thetaEOM[k//(2*mod_depth)][(k%(2*mod_depth))])\n",
        "    return parameters"
      ],
      "execution_count": null,
      "outputs": []
    },
    {
      "cell_type": "code",
      "metadata": {
        "id": "HU7meflOasBx"
      },
      "source": [
        "def unpack(parameters, mod_depth) :\n",
        "    parameters_ps = np.zeros(shape=(n_layers, n_bins), dtype='float')\n",
        "    parameters_em = np.zeros(shape=(n_layers, 2*mod_depth), dtype='float')\n",
        "    for k in range(0, n_layers*n_bins) :\n",
        "        thetaPS[(k//n_bins)][(k%n_bins)] = parameters[k]\n",
        "    for k in range(0, 2*n_layers*mod_depth) :\n",
        "        thetaEOM[k//(2*mod_depth)][(k%(2*mod_depth))] = parameters[(k + n_bins*n_layers)]\n",
        "    return [thetaPS, thetaEOM]"
      ],
      "execution_count": null,
      "outputs": []
    },
    {
      "cell_type": "markdown",
      "metadata": {
        "id": "GTzX_1tIgsFB"
      },
      "source": [
        "# Electro-optic modulator (EOM)\n"
      ]
    },
    {
      "cell_type": "markdown",
      "metadata": {
        "id": "l7oIj7EygsFD"
      },
      "source": [
        "[Electro-optic modulator](https://en.wikipedia.org/wiki/Electro-optic_modulator) (EOM) have broad ranges of application in classical and quantum photonics. is described by its driving voltage\n",
        "\n",
        "$a(t) = \\sum_{k=1}^{m} a_{k}\\sin(\\Omega_{k} t + \\varphi_{k})$\n",
        "\n",
        "Here we call $m = 1, 2, \\dots$ the modulation depth. When we concentrate on single-tone modulation we will set this to be equal to $1$.\n",
        "\n",
        "$a^{\\dagger}_{r} \\rightarrow Sa^{\\dagger}_{r}S^{\\dagger} = \\sum_{q} (-ie^{-i\\vartheta})^{q} J_{q}(m)a^{\\dagger}_{r+q}$."
      ]
    },
    {
      "cell_type": "code",
      "metadata": {
        "id": "jqdHSb5TgsFD"
      },
      "source": [
        "global mod_depth = 1     # modulation depth\n",
        "global a_min = 00.00     # minimal modulation amplitude\n",
        "global a_max = 10.00     # maximal modulation amplitude"
      ],
      "execution_count": null,
      "outputs": []
    },
    {
      "cell_type": "markdown",
      "metadata": {
        "id": "raj4GTmFgsFK"
      },
      "source": [
        "This defines the unitary in time domain (TD)."
      ]
    },
    {
      "cell_type": "code",
      "metadata": {
        "id": "cp1hoYdhgsFL"
      },
      "source": [
        "def unitaryTD(parameters, mod_depth, n_bins) :\n",
        "    U = np.zeros(shape=(n_bins, n_bins), dtype=\"complex64\")\n",
        "    amplitude, phase = parameters\n",
        "    for i in range(0, d):\n",
        "        U[i][i] += np.exp(1j*(amplitude*np.sin(np.pi*i/d + phase)))\n",
        "    return U"
      ],
      "execution_count": null,
      "outputs": []
    },
    {
      "cell_type": "code",
      "metadata": {
        "id": "H-WWDWdPgsFO"
      },
      "source": [
        "# testing if unitaryTD returns a unitary matrix\n",
        "U = np.around(unitaryTD(parameters, mod_depth, n_bins), decimals=9)\n",
        "is_unitary = np.allclose(np.eye(n_bins), U @ RT.adjoint(U))\n",
        "print('unitaryTD() returns a unitary matrix: ' + str(is_unitary))"
      ],
      "execution_count": null,
      "outputs": []
    },
    {
      "cell_type": "markdown",
      "metadata": {
        "id": "IeZIPCCUgsFR"
      },
      "source": [
        "Plotting the modulation signal"
      ]
    },
    {
      "cell_type": "code",
      "metadata": {
        "id": "KhLpcvC7gsFS"
      },
      "source": [
        "def plot_modulation(parameters, mod_depth, n_bins) :\n",
        "    amplitude, phase = parameters\n",
        "    t = np.arange(0, 10*n_bins)\n",
        "    s = np.around(amplitude*np.sin(np.pi*t/n_bins + phase), decimals=9)\n",
        "    plt.title('modulation signal ot the EOM in TD')\n",
        "    plt.plot(t/n_bins, s)\n",
        "    plt.xlabel('time [norm.]')\n",
        "    plt.ylabel('driving voltage [arb.]')\n",
        "    plt.show()\n",
        "    plt.close()\n",
        "    pass"
      ],
      "execution_count": null,
      "outputs": []
    },
    {
      "cell_type": "code",
      "metadata": {
        "id": "GxS_JxZwgsFU"
      },
      "source": [
        "plot_modulation(parameters, mod_depth, n_bins)"
      ],
      "execution_count": null,
      "outputs": []
    },
    {
      "cell_type": "markdown",
      "metadata": {
        "id": "OaW4KUg8gsFX"
      },
      "source": [
        "Here is the corresponding unitary in frequency domain (FD)."
      ]
    },
    {
      "cell_type": "code",
      "metadata": {
        "id": "xx489czhgsFY"
      },
      "source": [
        "def unitaryFD(parameters, mod_depth, n_bins) :\n",
        "    F = dft(n_bins)/np.sqrt(n_bins)\n",
        "    U = unitaryTD(parameters, mod_depth, n_bins) #doesn't involve yet.\n",
        "    return F @ U @ RT.adjoint(F)"
      ],
      "execution_count": null,
      "outputs": []
    },
    {
      "cell_type": "code",
      "metadata": {
        "id": "AeHO-5LBgsFa"
      },
      "source": [
        "# testing if unitaryFD returns a unitary matrix\n",
        "U = np.around(unitaryFD(parameters, mod_depth, n_bins), decimals=9)\n",
        "is_unitary = np.allclose(np.eye(n_bins), U @ RT.adjoint(U))\n",
        "print('unitaryFD() returns a unitary matrix: ' + str(is_unitary))"
      ],
      "execution_count": null,
      "outputs": []
    },
    {
      "cell_type": "code",
      "metadata": {
        "id": "wt6j_6OBgsFe"
      },
      "source": [
        "# this function will not return some unitary matrix, \n",
        "# since we truncate the hilbert space\n",
        "def besselFD(parameters, n_bins, f=0.42) :\n",
        "    U = np.zeros(shape=(n_bins, n_bins), dtype='complex64')\n",
        "    amplitude, phase = parameters\n",
        "    for i in range(0, d) :\n",
        "        for j in range(0, d) :\n",
        "            if(np.abs(i-j) <= math.ceil(amplitude+2)) :\n",
        "                U[i][j] = special.jv(i-j, f*amplitude)*(-1j*np.exp(-1j*phase))**(i-j)\n",
        "    return U"
      ],
      "execution_count": null,
      "outputs": []
    },
    {
      "cell_type": "markdown",
      "metadata": {
        "id": "ri0YreV7h1Lh"
      },
      "source": [
        ""
      ]
    },
    {
      "cell_type": "markdown",
      "metadata": {
        "id": "2SeJosTngx-M"
      },
      "source": [
        "# Phase Shaper (PS)\n",
        "\n"
      ]
    },
    {
      "cell_type": "markdown",
      "metadata": {
        "id": "w9E9S1SbhNy3"
      },
      "source": [
        "TODO: explain how the PS works."
      ]
    },
    {
      "cell_type": "code",
      "metadata": {
        "id": "4KmesBaxgx-O"
      },
      "source": [
        "def unitaryFD(parameters, n_bins) :\n",
        "    U = np.array(np.zeros(shape=(n_bins, n_bins)), dtype='complex64')\n",
        "    for i in range(0, n_bins):\n",
        "        U[i][i] = np.exp(1j*theta[i])\n",
        "    return U"
      ],
      "execution_count": null,
      "outputs": []
    },
    {
      "cell_type": "code",
      "metadata": {
        "id": "VS2yv7Bsgx-S"
      },
      "source": [
        "# testing if unitaryFD returns a unitary matrix\n",
        "U = np.around(unitaryFD(parameters, n_bins), decimals=9)\n",
        "is_unitary = np.allclose(np.eye(n_bins), U @ RT.adjoint(U))\n",
        "print('unitaryFD() returns a unitary matrix: ' + str(is_unitary))"
      ],
      "execution_count": null,
      "outputs": []
    },
    {
      "cell_type": "markdown",
      "metadata": {
        "id": "oVU7oG_7gLB7"
      },
      "source": [
        "# Quantum Frequency Processor (QFP)"
      ]
    },
    {
      "cell_type": "markdown",
      "metadata": {
        "id": "uVUAbakRqvV1"
      },
      "source": [
        "$a_{r} \\rightarrow a_{r}' = U a_{r}U^{\\dagger} = \\sum_{l} V_{rl} a_{l}$"
      ]
    },
    {
      "cell_type": "markdown",
      "metadata": {
        "id": "tQH_jy0BdAcF"
      },
      "source": [
        "The input state is given by $\\ket{l} = \\sqrt{(1 + \\delta_{p_{l} q_{l}})^{-1}} a_{p_{l}}^{\\dagger}a_{q_{l}}^{\\dagger} \\ket{vac}$ and the output state is given by $\\ket{m} = \\sqrt{(1 + \\delta_{p_{m} q_{m}})^{-1}} a_{p_{m}}^{\\dagger}a_{q_{m}}^{\\dagger} \\ket{vac}$\n",
        "\n",
        "The transfer matrix can be written as $W_{lm} = \\bra{l} m \\rangle = \\sum_{} \\frac{V_{} V_{}}{\\sqrt{(1 + \\delta_{})(1 + \\delta_{})}}$"
      ]
    },
    {
      "cell_type": "code",
      "metadata": {
        "id": "Vm4KJJmBbCee"
      },
      "source": [
        "def transfer_matrix(parameters_ps, parameters_em) :\n",
        "    W = np.zeros(shape=(d_in, d_out), dtype='complex64')\n",
        "    V = unitaryV(parameters_ps, parameters_em)\n",
        "    for l in range(0, d_in) :\n",
        "        r1, r2 = labelMapping(l)\n",
        "        for m in range(0, d_out) :\n",
        "            q1, q2 = labelMapping(m)\n",
        "            permutations = RT.getPermutations([q1, q2])\n",
        "            for perm in permutations:\n",
        "                a, b = perm\n",
        "                W[l][m]+=1.0/(np.sqrt((1 + diracDelta(r1, r2))*(1 + diracDelta(r1, r2))))*V[r1][a]*V[r2][b]\n",
        "    return W"
      ],
      "execution_count": null,
      "outputs": []
    },
    {
      "cell_type": "markdown",
      "metadata": {
        "id": "IMmtNCoryUvC"
      },
      "source": [
        "coherence and correlation functions"
      ]
    },
    {
      "cell_type": "code",
      "metadata": {
        "id": "5mqPueNeyUMA"
      },
      "source": [
        ""
      ],
      "execution_count": null,
      "outputs": []
    },
    {
      "cell_type": "markdown",
      "metadata": {
        "id": "ApqysggZ9n_w"
      },
      "source": [
        "It is well known from the standard beam splitter interference experiments performed by [Hong, Ou and Mandel](https://en.wikipedia.org/wiki/Hong%E2%80%93Ou%E2%80%93Mandel_effect) (1987) that phenomena of quantum interference only arise for indistinguishable bosons. When photons become distingushable in any DoF (i.e. have different quantum numbers) they no longer show such interesting properties. Thus in the given context we might investigate the role of the quantum interference a little bit closer. For instance we could ask what happens, if the photons in a QFP become distinguishable, e.g. by their polarization. Does that have any major consequences on the deep learning performance of the device? \n",
        "\n",
        "To investigate such questions, suppose we are able to prepare a quantum state of two photons which have same different polarization, but have the same properties in every other degree of freedom. In the frequency bin setup such state may be written as\n",
        "\n",
        "$\\ket{}$"
      ]
    },
    {
      "cell_type": "markdown",
      "metadata": {
        "id": "Gleq8A_MCKui"
      },
      "source": [
        "**Further research:** Besides one and two photon inputs, we might ask what happens if we feed the QFP with other highly non-classical states of ligth. Such states might GHZ (three photons), squeezed states, ..."
      ]
    },
    {
      "cell_type": "markdown",
      "metadata": {
        "id": "LqnsuZghX--G"
      },
      "source": [
        "# Classical Frequency Processor (CFP)"
      ]
    },
    {
      "cell_type": "markdown",
      "metadata": {
        "id": "Hrq2m-MiX--I"
      },
      "source": [
        "Now, that we have considered the quantum case, we shall examine a classical frequency processor (CFP). Such a device is very similar to the QFP, the only difference being that it operates with classical states of light and usually at higher intensities. Just like in the quantum case we can have \"classical\" interference between the different frequency bins which is due to the frequncy mixing of the EOM. Due to this observation the following fundamental question arises: can we perform certain deep learning tasks on a CFP just as good as on a QFP? \n",
        "\n",
        "Of course it is possible to describe a CFP with classical fields. Here we choose the same quantum framework as we previously encoutered for the QFP to analyse the CFP. This is possbile if we choose as input states of light that are sufficiently \"classical\" with relativley high intensities. Thus coherent states are a quite natural choice, as they are essentially laser light. \n",
        "\n",
        "Of course we could choose other states, epecially mixed states, where we no longer operate in the regime of \"pure\" coherence. For such states, we expect the interference to become negible. Thus no photon interactions are possible and we expect the CFP to perform bad in deep learning tasks, due to the lack of flexibility of the underlying stochastic model.\n",
        "\n",
        "Let's get somewhat techncial. A coherent state $\\ket{\\alpha} = D(\\alpha)\\ket{vac}$ can be described by applying the displacement operator to the vacuum. The displacement operator is defined by $D(\\alpha) = \\exp \\big(\\sum_{r=0}^{M-1} \\alpha_{r} a^{\\dagger}_{r}+ \\alpha_{r}^{*} a_{r} \\big)$. It's a reasonable choice to feed the CFP with some \"classical\" input state, where each frequency bin is uniformly populated by the intensity $I_{r} \\propto |\\alpha|^{2}$. Formally, this input state may be written as a collection of coherent states $\\ket{in} = \\ket{\\alpha}_{0} \\otimes \\dots \\otimes \\ket{\\alpha}_{M-1}$, with uniform $\\alpha \\in \\mathbb{C}$ for all frequency bins."
      ]
    },
    {
      "cell_type": "code",
      "metadata": {
        "id": "FamkNPpsX--K"
      },
      "source": [
        "n_layers, n_bins = 4, 32  # defines the architecture of the CFP"
      ],
      "execution_count": null,
      "outputs": []
    },
    {
      "cell_type": "code",
      "metadata": {
        "id": "tR7tG1tiX--Q"
      },
      "source": [
        "def unitaryV(parameters_ps, parameters_em) :\n",
        "    V = np.eye(bins, dtype='complex64')\n",
        "    for layer in range(0, n_layers) :\n",
        "        U_em = em.unitaryFD(parameters_em[layer], mod_depth, n_bins)\n",
        "        U_ps = ps.unitaryFD(parameters_ps[layer], n_bins)\n",
        "        V = V @ U_ps @ U_eom\n",
        "    return V"
      ],
      "execution_count": null,
      "outputs": []
    },
    {
      "cell_type": "markdown",
      "metadata": {
        "id": "QXfXkbZ5X--U"
      },
      "source": [
        ""
      ]
    },
    {
      "cell_type": "code",
      "metadata": {
        "id": "RlsjWjiNX--U"
      },
      "source": [
        "# uniform intensity distribution\n",
        "def classical_input_distribution(n_bins) :\n",
        "  input_state = np.ones(n_bins)\n",
        "  input_state /= sum(input_state)\n",
        "  return input_state"
      ],
      "execution_count": null,
      "outputs": []
    },
    {
      "cell_type": "code",
      "metadata": {
        "id": "1WIusf-RX--X",
        "outputId": "e542c9bb-8a48-484a-ba41-d6d5e1874bc3",
        "colab": {
          "base_uri": "https://localhost:8080/"
        }
      },
      "source": [
        "# testing if the distribution is normalized to 1\n",
        "s = classical_input_distribution(n_bins)\n",
        "is_normalized = np.allclose(sum(s), 1)\n",
        "print('classical_input_distribution() returns a normalized distribution: ' + str(is_normalized))"
      ],
      "execution_count": null,
      "outputs": [
        {
          "output_type": "stream",
          "text": [
            "classical_input_distribution() returns a normalized distribution: True\n"
          ],
          "name": "stdout"
        }
      ]
    },
    {
      "cell_type": "code",
      "metadata": {
        "id": "fM-ceUtuX--a",
        "outputId": "d4f61a07-8d7d-494b-8a39-7697d27a4da4",
        "colab": {
          "base_uri": "https://localhost:8080/",
          "height": 299
        }
      },
      "source": [
        "# plotting the input distribtion\n",
        "plt.plot(np.arange(0, n_bins), s, 'x')\n",
        "plt.title(\"intensity input distribtion of the CFP\")\n",
        "plt.xlabel('frequency bin $r$')\n",
        "plt.ylabel('intensity $|\\\\alpha_{r}|^2$ [norm.]')\n",
        "plt.show()"
      ],
      "execution_count": 53,
      "outputs": [
        {
          "output_type": "display_data",
          "data": {
            "image/png": "[encoded data removed]",
            "text/plain": [
              "<Figure size 432x288 with 1 Axes>"
            ]
          },
          "metadata": {
            "tags": [],
            "needs_background": "light"
          }
        }
      ]
    },
    {
      "cell_type": "markdown",
      "metadata": {
        "id": "QmsOSIQLX--d"
      },
      "source": [
        "To determine the output state of the CFP we have to revisit the tranfsormation rules for anihilation and creation operators. Previously we obtained the canonical transformation rule $a_{r} \\rightarrow a_{r}' = \\sum_{l} V_{rl} a_{l}$ for a single frequency bin in the QFP. Results for the CFP can be obtained in strict analogy by subsitution of the transformed operators into the displacement operator for coherent states $D(\\alpha) \\rightarrow D(\\alpha') = \\exp(\\sum_{r}\\alpha_{r}' a_{r} + \\text{h.c.})$ we get some collection of coherent states again. As one might would have guessed the parameters of the resulting coherent states are given by $\\alpha_{r}' = \\sum_{l} V_{rl} \\alpha_{l}$. Form this we can obatin the ouput intensity distribution by $I_{r}' \\propto |\\alpha_{r}'|^{2}$."
      ]
    },
    {
      "cell_type": "code",
      "metadata": {
        "id": "K_zx_HJMX--e"
      },
      "source": [
        "def classical_output_distribution(parameters, mod_depth, n_bins) :\n",
        "  parameters_ps, parameters_ps = unpack(parameters)\n",
        "  V = unitaryV(parameters_ps, parameters_em)\n",
        "  output_state = V @ input_state\n",
        "  output_distribution = [np.abs(output_state[i])**2 for i in range(0, n_bins)]\n",
        "  return output_distribution"
      ],
      "execution_count": null,
      "outputs": []
    },
    {
      "cell_type": "code",
      "metadata": {
        "id": "HX3p5jTVqg5C",
        "outputId": "65e2db35-7a91-468d-bbd2-e451a81b5a3a",
        "colab": {
          "base_uri": "https://localhost:8080/",
          "height": 299
        }
      },
      "source": [
        "# plotting the output distribtion\n",
        "plt.plot(np.arange(0, n_bins), s, 'x')\n",
        "plt.title(\"intensity output distribtion of the CFP\")\n",
        "plt.xlabel('frequency bin $r$')\n",
        "plt.ylabel('intensity $|\\\\alpha_{r}|^2$ [norm.]')\n",
        "plt.show()"
      ],
      "execution_count": 54,
      "outputs": [
        {
          "output_type": "display_data",
          "data": {
            "image/png": "[encoded data removed]",
            "text/plain": [
              "<Figure size 432x288 with 1 Axes>"
            ]
          },
          "metadata": {
            "tags": [],
            "needs_background": "light"
          }
        }
      ]
    },
    {
      "cell_type": "markdown",
      "metadata": {
        "id": "6CUTSwT-Fo6e"
      },
      "source": [
        "**Future research:** Yet, we have considered states at the border between quantum and classical regime, i.e. coherent states. What happens if we feed the CFP with other \"classical\" states of light that show lower degrees of coherence? This question seems especially important if we want to quantify the robustness of our device against thermal noise and decoherence. Future investigation could involve mixtures of coherent states $\\rho = \\frac{1}{2}(\\ket{\\alpha} \\bra{\\alpha} + \\ket{\\beta} \\bra{\\beta})$ ($\\alpha \\neq \\beta$) as well as partially thermalized coherent states."
      ]
    },
    {
      "cell_type": "markdown",
      "metadata": {
        "id": "1oZ2xFczLnhJ"
      },
      "source": [
        "# Benchmarking with BAS22"
      ]
    },
    {
      "cell_type": "code",
      "metadata": {
        "id": "tOYcks75GCkb"
      },
      "source": [
        ""
      ],
      "execution_count": null,
      "outputs": []
    },
    {
      "cell_type": "markdown",
      "metadata": {
        "id": "zOhjEV84weKs"
      },
      "source": [
        "BAS patterns\n"
      ]
    },
    {
      "cell_type": "markdown",
      "metadata": {
        "id": "-vrdIHKtiSeK"
      },
      "source": [
        ""
      ]
    },
    {
      "cell_type": "code",
      "metadata": {
        "id": "MlqVW7NBLwFW"
      },
      "source": [
        "def sample_bas22() :\n",
        "    bas = np.zeros(d)\n",
        "    bas[0], bas[3], bas[5], bas[10], bas[12], bas[15] = 1, 1, 1, 1, 1, 1\n",
        "    return bas/6"
      ],
      "execution_count": null,
      "outputs": []
    },
    {
      "cell_type": "markdown",
      "metadata": {
        "id": "G_0GumYohbKo"
      },
      "source": [
        ""
      ]
    },
    {
      "cell_type": "code",
      "metadata": {
        "id": "9H3ovK5FXrGB"
      },
      "source": [
        ""
      ],
      "execution_count": null,
      "outputs": []
    },
    {
      "cell_type": "markdown",
      "metadata": {
        "id": "hoItX-fKt7ZP"
      },
      "source": [
        "# Optimization"
      ]
    },
    {
      "cell_type": "code",
      "metadata": {
        "id": "E0LwJoJLuoHQ"
      },
      "source": [
        "swarm_size = 100    # number of particles used in the PSO\n",
        "iterations = 100    # number of iterations in the PSO "
      ],
      "execution_count": null,
      "outputs": []
    },
    {
      "cell_type": "code",
      "metadata": {
        "id": "pB4WE26BuS8-"
      },
      "source": [
        "def optimize_circuit_fuzzypso(cost_function, search_space) :\n",
        "  FP = fp.FuzzyPSO()\n",
        "  FP.set_search_space(search_space)\n",
        "  FP.set_fitness(cost_function)  \n",
        "  FP.set_swarm_size(swarm_size)\n",
        "  best_solution, fitness = FP.solve_with_fstpso(max_iter=iterations)\n",
        "  return [best_solution, fitness]"
      ],
      "execution_count": null,
      "outputs": []
    },
    {
      "cell_type": "code",
      "metadata": {
        "id": "woANEIllvLfc"
      },
      "source": [
        "def setupSearchSpace(a_min, a_max) :\n",
        "    phase_range, amplitude_range = [0, 2*np.pi], [a_min, a_max]\n",
        "    search_space = []\n",
        "    for i in range(0, layers*n_bins) :\n",
        "        search_space.append(phase_range)\n",
        "    for i in range(0, layers*mod_depth) :\n",
        "        search_space.append(amplitude_range)\n",
        "        search_space.append(phase_range)\n",
        "    return search_space"
      ],
      "execution_count": null,
      "outputs": []
    },
    {
      "cell_type": "code",
      "metadata": {
        "id": "tKKfDYfHubiS"
      },
      "source": [
        "search_space = fp.setupSearchSpace(a_min, a_max)"
      ],
      "execution_count": null,
      "outputs": []
    },
    {
      "cell_type": "markdown",
      "metadata": {
        "id": "JpzFy1rwield"
      },
      "source": [
        "# Evaluation"
      ]
    },
    {
      "cell_type": "code",
      "metadata": {
        "id": "HSpKfhtyw1U5"
      },
      "source": [
        "# results for QFP with one photon"
      ],
      "execution_count": null,
      "outputs": []
    },
    {
      "cell_type": "code",
      "metadata": {
        "id": "yS-o6KQFw7IY"
      },
      "source": [
        "# results for QFP with two photons"
      ],
      "execution_count": null,
      "outputs": []
    },
    {
      "cell_type": "code",
      "metadata": {
        "id": "GXBPzSmew_Vp"
      },
      "source": [
        "# results for CFP with coherent states"
      ],
      "execution_count": null,
      "outputs": []
    }
  ]
}
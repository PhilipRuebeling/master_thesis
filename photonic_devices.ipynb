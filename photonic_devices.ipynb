{
  "nbformat": 4,
  "nbformat_minor": 0,
  "metadata": {
    "colab": {
      "name": "photonic_devices.ipynb",
      "provenance": [],
      "collapsed_sections": [
        "2SeJosTngx-M"
      ],
      "toc_visible": true,
      "authorship_tag": "ABX9TyPoWkPPoWGsHCmHykuZziAR",
      "include_colab_link": true
    },
    "kernelspec": {
      "name": "python3",
      "display_name": "Python 3"
    }
  },
  "cells": [
    {
      "cell_type": "markdown",
      "metadata": {
        "id": "view-in-github",
        "colab_type": "text"
      },
      "source": [
        "<a href=\"https://colab.research.google.com/github/PhilipRuebeling/master_thesis/blob/main/photonic_devices.ipynb\" target=\"_parent\"><img src=\"https://colab.research.google.com/assets/colab-badge.svg\" alt=\"Open In Colab\"/></a>"
      ]
    },
    {
      "cell_type": "markdown",
      "metadata": {
        "id": "2CNaETzk-Ubt"
      },
      "source": [
        "$$\\newcommand{\\ket}[1]{\\left|{#1}\\right\\rangle}\\newcommand{\\bra}[1]{\\left\\langle\n",
        "{#1}\\right|}$$"
      ]
    },
    {
      "cell_type": "markdown",
      "metadata": {
        "id": "TVQBtiLcTRK6"
      },
      "source": [
        "# Presettings"
      ]
    },
    {
      "cell_type": "code",
      "metadata": {
        "id": "nxUQfF3g580A",
        "outputId": "a406cee4-6fce-4df9-cd47-3395874773ac",
        "colab": {
          "base_uri": "https://localhost:8080/"
        }
      },
      "source": [
        "%pip install fst-pso  # particle swarm optimization"
      ],
      "execution_count": 1,
      "outputs": [
        {
          "output_type": "stream",
          "text": [
            "Requirement already satisfied: fst-pso in /usr/local/lib/python3.6/dist-packages (1.7.10)\n",
            "Requirement already satisfied: numpy in /usr/local/lib/python3.6/dist-packages (from fst-pso) (1.18.5)\n",
            "Requirement already satisfied: miniful in /usr/local/lib/python3.6/dist-packages (from fst-pso) (0.0.6)\n",
            "Requirement already satisfied: scipy>=1.0.0 in /usr/local/lib/python3.6/dist-packages (from miniful->fst-pso) (1.4.1)\n"
          ],
          "name": "stdout"
        }
      ]
    },
    {
      "cell_type": "code",
      "metadata": {
        "id": "65drSZ8byEkA"
      },
      "source": [
        "import numpy as np\n",
        "import fstpso as fp\n",
        "\n",
        "import matplotlib.pyplot as plt\n",
        "import scipy.special\n",
        "import math\n",
        "import itertools\n",
        "from scipy.stats import norm\n",
        "from scipy.optimize import minimize\n",
        "from scipy.linalg import dft\n",
        "from random import *"
      ],
      "execution_count": 2,
      "outputs": []
    },
    {
      "cell_type": "markdown",
      "metadata": {
        "id": "ZeI7LXVKaVhS"
      },
      "source": [
        "# Routines\n"
      ]
    },
    {
      "cell_type": "code",
      "metadata": {
        "id": "AF5j_3Vda2pQ"
      },
      "source": [
        "def adjoint(A) :\n",
        "    return np.transpose(np.conjugate(A))"
      ],
      "execution_count": 3,
      "outputs": []
    },
    {
      "cell_type": "code",
      "metadata": {
        "id": "R9VKwbwolKMV"
      },
      "source": [
        "def delta(i, j) :\n",
        "  return int(i == j)"
      ],
      "execution_count": 4,
      "outputs": []
    },
    {
      "cell_type": "code",
      "metadata": {
        "id": "eIsm2tiqagml"
      },
      "source": [
        "def pack(parameters_ps, parameters_em, mod_depth) :\n",
        "    parameters = []\n",
        "    for k in range(0, n_layers*n_bins) :\n",
        "        parameters.append(parameters_ps[(k//n_bins)][(k%n_bins)])\n",
        "    for k in range(0, 2*n_layers*mod_depth) :\n",
        "        parameters.append(parameters_em[k//(2*mod_depth)][(k%(2*mod_depth))])\n",
        "    return parameters"
      ],
      "execution_count": 5,
      "outputs": []
    },
    {
      "cell_type": "code",
      "metadata": {
        "id": "HU7meflOasBx"
      },
      "source": [
        "def unpack(parameters, mod_depth) :\n",
        "    parameters_ps = np.zeros(shape=(n_layers, n_bins), dtype='float')\n",
        "    parameters_em = np.zeros(shape=(n_layers, 2*mod_depth), dtype='float')\n",
        "    for k in range(0, n_layers*n_bins) :\n",
        "        parameters_ps[(k//n_bins)][(k%n_bins)] = parameters[k]\n",
        "    for k in range(0, 2*n_layers*mod_depth) :\n",
        "        parameters_em[k//(2*mod_depth)][(k%(2*mod_depth))] = parameters[(k + n_bins*n_layers)]\n",
        "    return [parameters_ps, parameters_em]"
      ],
      "execution_count": 6,
      "outputs": []
    },
    {
      "cell_type": "code",
      "metadata": {
        "id": "qrz4xYmr3k0y"
      },
      "source": [
        "def state_to_statistics(state) :\n",
        "  return [np.abs(state[i])**2 for i in range(0, len(state))]"
      ],
      "execution_count": 7,
      "outputs": []
    },
    {
      "cell_type": "markdown",
      "metadata": {
        "id": "GTzX_1tIgsFB"
      },
      "source": [
        "# Electro-optic modulator (EOM)\n"
      ]
    },
    {
      "cell_type": "markdown",
      "metadata": {
        "id": "l7oIj7EygsFD"
      },
      "source": [
        "[Electro-optic modulator](https://en.wikipedia.org/wiki/Electro-optic_modulator) (EOM) have broad ranges of application in classical and quantum photonics. is described by its driving voltage\n",
        "\n",
        "$a(t) = \\sum_{k=1}^{m} a_{k}\\sin(\\Omega_{k} t + \\varphi_{k})$\n",
        "\n",
        "Here we call $m = 1, 2, \\dots$ the modulation depth. When we concentrate on single-tone modulation we will set this to be equal to $1$.\n",
        "\n",
        "$a^{\\dagger}_{r} \\rightarrow Sa^{\\dagger}_{r}S^{\\dagger} = \\sum_{q} (-ie^{-i\\vartheta})^{q} J_{q}(m)a^{\\dagger}_{r+q}$."
      ]
    },
    {
      "cell_type": "code",
      "metadata": {
        "id": "jqdHSb5TgsFD"
      },
      "source": [
        "# parameters to test the EOM\n",
        "mod_depth = 1     # modulation depth\n",
        "a_min = 00.00     # minimal modulation amplitude\n",
        "a_max = 10.00     # maximal modulation amplitude\n",
        "\n",
        "n_bins = 4\n",
        "parameters_test = [2, 0.0]"
      ],
      "execution_count": 8,
      "outputs": []
    },
    {
      "cell_type": "markdown",
      "metadata": {
        "id": "raj4GTmFgsFK"
      },
      "source": [
        "This defines the unitary in time domain (TD)."
      ]
    },
    {
      "cell_type": "code",
      "metadata": {
        "id": "cp1hoYdhgsFL"
      },
      "source": [
        "def em_unitaryTD(parameters, mod_depth, n_bins) :\n",
        "    U = np.zeros(shape=(n_bins, n_bins), dtype=\"complex128\")\n",
        "    amplitude, phase = parameters\n",
        "    for i in range(0, n_bins):\n",
        "        U[i][i] += np.exp(1j*(amplitude*np.sin(np.pi*i/n_bins + phase)))\n",
        "    return U"
      ],
      "execution_count": 9,
      "outputs": []
    },
    {
      "cell_type": "code",
      "metadata": {
        "id": "H-WWDWdPgsFO",
        "outputId": "4eb27b2e-f814-43d3-c17c-6140f85490d3",
        "colab": {
          "base_uri": "https://localhost:8080/"
        }
      },
      "source": [
        "# testing if unitaryTD returns a unitary matrix\n",
        "U = np.around(em_unitaryTD(parameters_test, mod_depth, n_bins), decimals=9)\n",
        "print(U)\n",
        "is_unitary = np.allclose(np.eye(n_bins), U @ adjoint(U))\n",
        "print('em_unitaryTD() returns a unitary matrix: ' + str(is_unitary))"
      ],
      "execution_count": 10,
      "outputs": [
        {
          "output_type": "stream",
          "text": [
            "[[ 1.        +0.j          0.        +0.j          0.        +0.j\n",
            "   0.        +0.j        ]\n",
            " [ 0.        +0.j          0.15594369+0.98776595j  0.        +0.j\n",
            "   0.        +0.j        ]\n",
            " [ 0.        +0.j          0.        +0.j         -0.41614684+0.90929743j\n",
            "   0.        +0.j        ]\n",
            " [ 0.        +0.j          0.        +0.j          0.        +0.j\n",
            "   0.15594369+0.98776595j]]\n",
            "em_unitaryTD() returns a unitary matrix: True\n"
          ],
          "name": "stdout"
        }
      ]
    },
    {
      "cell_type": "markdown",
      "metadata": {
        "id": "IeZIPCCUgsFR"
      },
      "source": [
        "Plotting the modulation signal"
      ]
    },
    {
      "cell_type": "code",
      "metadata": {
        "id": "KhLpcvC7gsFS"
      },
      "source": [
        "def plot_modulation(parameters, mod_depth, n_bins) :\n",
        "    amplitude, phase = parameters\n",
        "    t = np.arange(0, 10*n_bins)\n",
        "    s = np.around(amplitude*np.sin(np.pi*t/n_bins + phase), decimals=9)\n",
        "    plt.title('modulation signal ot the EOM in TD')\n",
        "    plt.plot(t/n_bins, s)\n",
        "    plt.xlabel('time [norm.]')\n",
        "    plt.ylabel('driving voltage [arb.]')\n",
        "    plt.show()\n",
        "    plt.close()\n",
        "    pass"
      ],
      "execution_count": 11,
      "outputs": []
    },
    {
      "cell_type": "code",
      "metadata": {
        "id": "GxS_JxZwgsFU",
        "outputId": "251cfadb-a80e-4d5c-cafe-775194b6cd22",
        "colab": {
          "base_uri": "https://localhost:8080/",
          "height": 0
        }
      },
      "source": [
        "plot_modulation(parameters_test, mod_depth, n_bins)"
      ],
      "execution_count": 12,
      "outputs": [
        {
          "output_type": "display_data",
          "data": {
            "image/png": "[encoded data removed]",
            "text/plain": [
              "<Figure size 432x288 with 1 Axes>"
            ]
          },
          "metadata": {
            "tags": [],
            "needs_background": "light"
          }
        }
      ]
    },
    {
      "cell_type": "markdown",
      "metadata": {
        "id": "OaW4KUg8gsFX"
      },
      "source": [
        "Here is the corresponding unitary in frequency domain (FD)."
      ]
    },
    {
      "cell_type": "code",
      "metadata": {
        "id": "xx489czhgsFY"
      },
      "source": [
        "def em_unitaryFD(parameters, mod_depth, n_bins) :\n",
        "    F = dft(n_bins)/np.sqrt(n_bins)\n",
        "    U = em_unitaryTD(parameters, mod_depth, n_bins)\n",
        "    return F @ U @ adjoint(F)"
      ],
      "execution_count": 13,
      "outputs": []
    },
    {
      "cell_type": "code",
      "metadata": {
        "id": "AeHO-5LBgsFa",
        "outputId": "c374d31e-f451-427a-c41d-053d4c8bd326",
        "colab": {
          "base_uri": "https://localhost:8080/"
        }
      },
      "source": [
        "# testing if unitaryFD returns a unitary matrix\n",
        "U = np.around(em_unitaryFD(parameters_test, mod_depth, n_bins), decimals=9)\n",
        "is_unitary = np.allclose(np.eye(n_bins), U @ adjoint(U))\n",
        "print('unitaryFD() returns a unitary matrix: ' + str(is_unitary))"
      ],
      "execution_count": 14,
      "outputs": [
        {
          "output_type": "stream",
          "text": [
            "unitaryFD() returns a unitary matrix: True\n"
          ],
          "name": "stdout"
        }
      ]
    },
    {
      "cell_type": "code",
      "metadata": {
        "id": "wt6j_6OBgsFe"
      },
      "source": [
        "# this function will not return some unitary matrix, \n",
        "# since we truncate the hilbert space\n",
        "def besselFD(parameters, n_bins, f=0.42) :\n",
        "    U = np.zeros(shape=(n_bins, n_bins), dtype='complex64')\n",
        "    amplitude, phase = parameters\n",
        "    for i in range(0, n_bins) :\n",
        "        for j in range(0, n_bins) :\n",
        "            if(np.abs(i-j) <= math.ceil(amplitude+2)) :\n",
        "                U[i][j] = special.jv(i-j, f*amplitude)*(-1j*np.exp(-1j*phase))**(i-j)\n",
        "    return U"
      ],
      "execution_count": 15,
      "outputs": []
    },
    {
      "cell_type": "markdown",
      "metadata": {
        "id": "2SeJosTngx-M"
      },
      "source": [
        "# Phase Shaper (PS)\n",
        "\n"
      ]
    },
    {
      "cell_type": "markdown",
      "metadata": {
        "id": "w9E9S1SbhNy3"
      },
      "source": [
        "TODO: explain how the PS works."
      ]
    },
    {
      "cell_type": "code",
      "metadata": {
        "id": "bKOYbwGr5CWN"
      },
      "source": [
        "n_bins = 4\n",
        "parameters_test = np.ones(n_bins)"
      ],
      "execution_count": 16,
      "outputs": []
    },
    {
      "cell_type": "code",
      "metadata": {
        "id": "4KmesBaxgx-O"
      },
      "source": [
        "def ps_unitaryFD(parameters, n_bins) :\n",
        "    U = np.array(np.zeros(shape=(n_bins, n_bins)), dtype='complex64')\n",
        "    for i in range(0, n_bins):\n",
        "        U[i][i] = np.exp(1j*parameters[i])\n",
        "    return U"
      ],
      "execution_count": 17,
      "outputs": []
    },
    {
      "cell_type": "code",
      "metadata": {
        "id": "VS2yv7Bsgx-S",
        "outputId": "3ad4eac7-1722-4e5d-ae39-371d1ad7d9e5",
        "colab": {
          "base_uri": "https://localhost:8080/"
        }
      },
      "source": [
        "# testing if unitaryFD returns a unitary matrix\n",
        "U = np.around(ps_unitaryFD(parameters_test, n_bins), decimals=9)\n",
        "is_unitary = np.allclose(np.eye(n_bins), U @ adjoint(U))\n",
        "print('unitaryFD() returns a unitary matrix: ' + str(is_unitary))"
      ],
      "execution_count": 18,
      "outputs": [
        {
          "output_type": "stream",
          "text": [
            "unitaryFD() returns a unitary matrix: True\n"
          ],
          "name": "stdout"
        }
      ]
    },
    {
      "cell_type": "markdown",
      "metadata": {
        "id": "1oZ2xFczLnhJ"
      },
      "source": [
        "# Benchmarking"
      ]
    },
    {
      "cell_type": "code",
      "metadata": {
        "id": "LEJLJE8C42NT"
      },
      "source": [
        "n_bins = 16"
      ],
      "execution_count": 19,
      "outputs": []
    },
    {
      "cell_type": "code",
      "metadata": {
        "id": "JRr_mXVJ_4BG"
      },
      "source": [
        "def identity() :\n",
        "  return np.ones(n_bins)/n_bins"
      ],
      "execution_count": 20,
      "outputs": []
    },
    {
      "cell_type": "code",
      "metadata": {
        "id": "MlqVW7NBLwFW"
      },
      "source": [
        "def bas22() :\n",
        "  bas = np.zeros(n_bins)\n",
        "  bas[0], bas[3], bas[5], bas[10], bas[12], bas[15] = 1, 1, 1, 1, 1, 1\n",
        "  return bas/6"
      ],
      "execution_count": 21,
      "outputs": []
    },
    {
      "cell_type": "code",
      "metadata": {
        "id": "YMnWHB6S25Rc",
        "outputId": "f3bd09da-b661-4f5b-e2d8-9c8c6cb518c7",
        "colab": {
          "base_uri": "https://localhost:8080/",
          "height": 299
        }
      },
      "source": [
        "# plot the desired output distribution\n",
        "fig, ax = plt.subplots()\n",
        "rects = ax.bar(np.arange(0, n_bins), bas22())\n",
        "plt.title(\"intensity input distribtion of the CFP\")\n",
        "plt.xlabel('frequency bin $r$')\n",
        "plt.ylabel('intensity $|\\\\alpha_{r}|^2$ [norm.]')\n",
        "plt.show()"
      ],
      "execution_count": 22,
      "outputs": [
        {
          "output_type": "display_data",
          "data": {
            "image/png": "[encoded data removed]",
            "text/plain": [
              "<Figure size 432x288 with 1 Axes>"
            ]
          },
          "metadata": {
            "tags": [],
            "needs_background": "light"
          }
        }
      ]
    },
    {
      "cell_type": "code",
      "metadata": {
        "id": "yiFVfuNszmUE"
      },
      "source": [
        "def gaussian(mu=0.0, sigma=0.1) :\n",
        "  return norm.pdf(np.arange(0, n_bins),n_bins/2-1,2)"
      ],
      "execution_count": 23,
      "outputs": []
    },
    {
      "cell_type": "code",
      "metadata": {
        "id": "krtRa9s0241s",
        "outputId": "e5debd27-1b71-4a6d-fdf0-fdb34383fe7e",
        "colab": {
          "base_uri": "https://localhost:8080/",
          "height": 299
        }
      },
      "source": [
        "# plot the desired output distribution\n",
        "fig, ax = plt.subplots()\n",
        "rects = ax.bar(np.arange(0, n_bins), gaussian())\n",
        "plt.title(\"intensity input distribtion of the CFP\")\n",
        "plt.xlabel('frequency bin $r$')\n",
        "plt.ylabel('intensity $|\\\\alpha_{r}|^2$ [norm.]')\n",
        "plt.show()"
      ],
      "execution_count": 24,
      "outputs": [
        {
          "output_type": "display_data",
          "data": {
            "image/png": "[encoded data removed]",
            "text/plain": [
              "<Figure size 432x288 with 1 Axes>"
            ]
          },
          "metadata": {
            "tags": [],
            "needs_background": "light"
          }
        }
      ]
    },
    {
      "cell_type": "markdown",
      "metadata": {
        "id": "hoItX-fKt7ZP"
      },
      "source": [
        "# Circuit Optimization"
      ]
    },
    {
      "cell_type": "markdown",
      "metadata": {
        "id": "knaICEBpTz-Y"
      },
      "source": [
        "We present two different optimization algorithms to optimize the costfunction. The first one is based on stochastic gradient decent and the second one is based on a gradient free procedure called particle swarm optimization."
      ]
    },
    {
      "cell_type": "markdown",
      "metadata": {
        "id": "XhteNLF2Ud66"
      },
      "source": [
        "Firstly, we present the gradient free approach of particle swarm optimization."
      ]
    },
    {
      "cell_type": "code",
      "metadata": {
        "id": "E0LwJoJLuoHQ"
      },
      "source": [
        "swarm_size = 100    # number of particles used in the PSO\n",
        "iterations = 250    # number of iterations in the PSO "
      ],
      "execution_count": 25,
      "outputs": []
    },
    {
      "cell_type": "code",
      "metadata": {
        "id": "woANEIllvLfc"
      },
      "source": [
        "def bulid_search_space(n_layers, n_bins, mod_depth) :\n",
        "    phase_range, amplitude_range = [0, 2*np.pi], [a_min, a_max]\n",
        "    search_space = []\n",
        "    for i in range(0, n_layers*n_bins) :\n",
        "        search_space.append(phase_range)\n",
        "    for i in range(0, n_layers*mod_depth) :\n",
        "        search_space.append(amplitude_range)\n",
        "        search_space.append(phase_range)\n",
        "    return search_space"
      ],
      "execution_count": 26,
      "outputs": []
    },
    {
      "cell_type": "code",
      "metadata": {
        "id": "pB4WE26BuS8-"
      },
      "source": [
        "def optimize_pso(costfunction, n_layers, n_bins, mod_depth) :\n",
        "  FP = fp.FuzzyPSO()\n",
        "  FP.set_search_space(bulid_search_space(n_layers, n_bins, mod_depth))\n",
        "  FP.set_fitness(costfunction)  \n",
        "  FP.set_swarm_size(swarm_size)\n",
        "  best_solution, fitness = FP.solve_with_fstpso(max_iter=iterations)\n",
        "  return [best_solution, fitness]"
      ],
      "execution_count": 27,
      "outputs": []
    },
    {
      "cell_type": "markdown",
      "metadata": {
        "id": "_R_pdz1yUNtm"
      },
      "source": [
        "TODO: Secondly, we present the gradient based approach."
      ]
    },
    {
      "cell_type": "markdown",
      "metadata": {
        "id": "oVU7oG_7gLB7"
      },
      "source": [
        "# Quantum Frequency Processor (QFP)"
      ]
    },
    {
      "cell_type": "markdown",
      "metadata": {
        "id": "uVUAbakRqvV1"
      },
      "source": [
        "We would like to derive the canonical transformation rule for the annihilation and creation operators in the QFP, i.e. $a_{r} \\rightarrow a_{r}' = U a_{r}U^{\\dagger} = \\sum_{l} V_{rl} a_{l}$ where the unitary transformation $V$ is to be determined."
      ]
    },
    {
      "cell_type": "markdown",
      "metadata": {
        "id": "tQH_jy0BdAcF"
      },
      "source": [
        "$\\ket{l} = \\sqrt{(1 + \\delta_{p_{l} q_{l}})^{-1}} a_{p_{l}}^{\\dagger}a_{q_{l}}^{\\dagger} \\ket{vac}$ and the output state is given by $\\ket{m} = \\sqrt{(1 + \\delta_{p_{m} q_{m}})^{-1}} a_{p_{m}}^{\\dagger}a_{q_{m}}^{\\dagger} \\ket{vac}$\n",
        "\n",
        "The transfer matrix can be written as $W_{lm} = \\bra{l} m \\rangle = \\sum_{} \\frac{V_{} V_{}}{\\sqrt{(1 + \\delta_{})(1 + \\delta_{})}}$"
      ]
    },
    {
      "cell_type": "code",
      "metadata": {
        "id": "pu_x_UmMVlcE"
      },
      "source": [
        "n_layers, n_bins = 2, 32  # defines the architecture of the QFP"
      ],
      "execution_count": 50,
      "outputs": []
    },
    {
      "cell_type": "code",
      "metadata": {
        "id": "PrQ-mC3xm4OD"
      },
      "source": [
        "# input density matrix\n",
        "def density_operator_input() :\n",
        "  density_operator = np.zeros(shape=(n_bins, n_bins), dtype=\"complex64\")\n",
        "  # specific input\n",
        "  state = np.ones(n_bins)/np.sqrt(n_bins)\n",
        "  density_operator = np.outer(state, state)\n",
        "  return density_operator"
      ],
      "execution_count": 49,
      "outputs": []
    },
    {
      "cell_type": "code",
      "metadata": {
        "id": "HU3d1vXtoOmb",
        "outputId": "fbc1cab1-cdfc-4027-ab5f-996c34590101",
        "colab": {
          "base_uri": "https://localhost:8080/"
        }
      },
      "source": [
        "# testing density matrix input\n",
        "input = density_operator_input()\n",
        "\n",
        "# normalized?\n",
        "is_normalized = np.allclose(np.trace(input), 1+0j)\n",
        "print(\"the density operator is normalized to one: \" + str(is_normalized))\n",
        "\n",
        "# pure state?\n",
        "is_pure_state = np.allclose(np.trace(input @ input), 1+0j)\n",
        "print(\"the density operator is pure: \" + str(is_pure_state))"
      ],
      "execution_count": 51,
      "outputs": [
        {
          "output_type": "stream",
          "text": [
            "the density operator is normalized to one: True\n",
            "the density operator is pure: True\n"
          ],
          "name": "stdout"
        }
      ]
    },
    {
      "cell_type": "code",
      "metadata": {
        "id": "uPiwmTA5oFxE",
        "outputId": "22fa1391-484f-4781-8388-fa88d4d2eb4c",
        "colab": {
          "base_uri": "https://localhost:8080/",
          "height": 218
        }
      },
      "source": [
        "# plot the input density matrix\n",
        "plt.subplot(121)\n",
        "plt.imshow(np.real(input), cmap='coolwarm')\n",
        "plt.title(\"$Re(\\\\rho)$\")\n",
        "plt.subplot(122)\n",
        "plt.imshow(np.imag(input), cmap='coolwarm')\n",
        "plt.title(\"$Im(\\\\rho)$\")\n",
        "plt.show()"
      ],
      "execution_count": 54,
      "outputs": [
        {
          "output_type": "display_data",
          "data": {
            "image/png": "[encoded data removed]",
            "text/plain": [
              "<Figure size 432x288 with 2 Axes>"
            ]
          },
          "metadata": {
            "tags": [],
            "needs_background": "light"
          }
        }
      ]
    },
    {
      "cell_type": "code",
      "metadata": {
        "id": "Vm4KJJmBbCee"
      },
      "source": [
        "def transfer_matrix(parameters) :\n",
        "    W = np.zeros(shape=(n_bins, n_bins), dtype='complex64')\n",
        "    parameters_ps, parameters_em = unpack(parameters)\n",
        "    V = unitaryV(parameters_ps, parameters_em)\n",
        "    for l in range(0, n_bins) :\n",
        "        r1, r2 = labelMapping(l)\n",
        "        for m in range(0, n_bins) :\n",
        "            q1, q2 = labelMapping(m)\n",
        "            permutations = RT.getPermutations([q1, q2])\n",
        "            for perm in permutations:\n",
        "                a, b = perm\n",
        "                W[l][m]+=1.0/(np.sqrt((1 + delta(r1, r2))*(1 + delta(q1, q2))))*V[r1][a]*V[r2][b]\n",
        "    return W"
      ],
      "execution_count": 57,
      "outputs": []
    },
    {
      "cell_type": "code",
      "metadata": {
        "id": "tIq55fSEm0H0"
      },
      "source": [
        "# output density matrix\n",
        "def density_operator_output(parameters) :\n",
        "  W = transfer_matrix(parameters)\n",
        "  return W @ density_operator_input() @ adjoint(W)"
      ],
      "execution_count": 60,
      "outputs": []
    },
    {
      "cell_type": "code",
      "metadata": {
        "id": "ZGeQIbTW6tOU"
      },
      "source": [
        "def costfunction(parameters) :\n",
        "  cost = 0\n",
        "  actual = density_operator_output\n",
        "  target = gaussian()\n",
        "  for i in range(0, n_bins) :\n",
        "    cost += (actual[i] - target[i])**2\n",
        "  return cost"
      ],
      "execution_count": 61,
      "outputs": []
    },
    {
      "cell_type": "code",
      "metadata": {
        "id": "nKbelIbkuelB"
      },
      "source": [
        "# plot the output density matrix\n",
        "plt.subplot(121)\n",
        "plt.imshow(np.real(input), cmap='coolwarm')\n",
        "plt.title(\"$Re(\\\\rho)$\")\n",
        "plt.subplot(122)\n",
        "plt.imshow(np.imag(input), cmap='coolwarm')\n",
        "plt.title(\"$Im(\\\\rho)$\")\n",
        "plt.show()"
      ],
      "execution_count": 34,
      "outputs": []
    },
    {
      "cell_type": "markdown",
      "metadata": {
        "id": "ApqysggZ9n_w"
      },
      "source": [
        "It is well known from the standard beam splitter interference experiments performed by [Hong, Ou and Mandel](https://en.wikipedia.org/wiki/Hong%E2%80%93Ou%E2%80%93Mandel_effect) (1987) that phenomena of quantum interference only arise for indistinguishable bosons. When photons become distingushable in any DoF (i.e. have different quantum numbers) they no longer show such interesting properties. Thus in the given context we might investigate the role of the quantum interference a little bit closer. For instance we could ask what happens, if the photons in a QFP become distinguishable, e.g. by their polarization. Does that have any major consequences on the deep learning performance of the device? \n",
        "\n",
        "To investigate such questions, suppose we are able to prepare a quantum state of two photons which have same different polarization, but have the same properties in every other degree of freedom. In the frequency bin setup we are able to adiabatically tune the quantum interference by adjusting the relativ polarisation of the photons. A state where the photons can be perfectly distinguished may be written as $\\ket{dist} = a^{\\dagger}_{rV} a^{\\dagger}_{rH} \\ket{vac}$ where $H,V$ denote horizontal and vertical polarisation, respectivley."
      ]
    },
    {
      "cell_type": "markdown",
      "metadata": {
        "id": "Gleq8A_MCKui"
      },
      "source": [
        "**Further research:** Besides one and two photon inputs, we might ask what happens if we feed the QFP with other highly non-classical states of ligth. Such states might GHZ, noon states, squeezed states, ..."
      ]
    },
    {
      "cell_type": "markdown",
      "metadata": {
        "id": "LqnsuZghX--G"
      },
      "source": [
        "# Classical Frequency Processor (CFP)"
      ]
    },
    {
      "cell_type": "markdown",
      "metadata": {
        "id": "Hrq2m-MiX--I"
      },
      "source": [
        "Now, that we have considered the quantum case, we shall examine a classical frequency processor (CFP). Such a device is very similar to the QFP, the only difference being that it operates with classical states of light and usually at higher intensities. Just like in the quantum case we can have \"classical\" interference between the different frequency bins which is due to the frequncy mixing of the EOM. Due to this observation the following fundamental question arises: can we perform certain deep learning tasks on a CFP just as good as on a QFP? \n",
        "\n",
        "Of course it is possible to describe a CFP with classical fields. Here we choose the same quantum framework as we previously encoutered for the QFP to analyse the CFP. This is possbile if we choose as input states of light that are sufficiently \"classical\" with relativley high intensities. Thus coherent states are a quite natural choice, as they are essentially laser light. \n",
        "\n",
        "Let's get somewhat techncial. A coherent state $\\ket{\\alpha} = D(\\alpha)\\ket{vac}$ can be described by applying the displacement operator to the vacuum. The displacement operator is defined by $D(\\alpha) = \\exp \\big(\\sum_{r=0}^{M-1} \\alpha_{r} a^{\\dagger}_{r}+ \\alpha_{r}^{*} a_{r} \\big)$. It's a reasonable choice to feed the CFP with some \"classical\" input state, where each frequency bin is uniformly populated by the intensity $I_{r} \\propto |\\alpha_{r}|^{2}$. Formally, this input state may be written as a collection of coherent states $\\ket{in} = \\ket{\\alpha}_{0} \\otimes \\dots \\otimes \\ket{\\alpha}_{M-1}$, with uniform $\\alpha \\in \\mathbb{C}$ for all frequency bins.\n",
        "\n",
        "To determine the output state of the CFP we have to revisit the tranfsormation rules for anihilation and creation operators. Previously we obtained the canonical transformation rule $a_{r} \\rightarrow a_{r}' = \\sum_{l} V_{rl} a_{l}$ for a single frequency bin in the QFP. Results for the CFP can be obtained in strict analogy by subsitution of the transformed operators into the displacement operator for coherent states $D(\\alpha) \\rightarrow D(\\alpha') = \\exp(\\sum_{r}\\alpha_{r}' a_{r} + \\text{h.c.})$ we get some collection of coherent states again. The complex parameters of the resulting coherent states are given by $\\alpha_{r}' = \\sum_{l} V_{rl} \\alpha_{l}$. Form this we can obatin the ouput intensity distribution by $I_{r}' \\propto |\\alpha_{r}'|^{2}$."
      ]
    },
    {
      "cell_type": "code",
      "metadata": {
        "id": "FamkNPpsX--K"
      },
      "source": [
        "n_layers, n_bins = 2, 16  # defines the architecture of the CFP\n",
        "mod_depth = 1"
      ],
      "execution_count": 35,
      "outputs": []
    },
    {
      "cell_type": "code",
      "metadata": {
        "id": "tR7tG1tiX--Q"
      },
      "source": [
        "def unitaryV(parameters_ps, parameters_em) :\n",
        "    V = np.eye(n_bins, dtype='complex64')\n",
        "    for layer in range(0, n_layers) :\n",
        "        U_em = em_unitaryFD(parameters_em[layer], mod_depth, n_bins)\n",
        "        U_ps = ps_unitaryFD(parameters_ps[layer], n_bins)\n",
        "        V = V @ U_ps @ U_em\n",
        "    return V"
      ],
      "execution_count": 36,
      "outputs": []
    },
    {
      "cell_type": "code",
      "metadata": {
        "id": "RlsjWjiNX--U"
      },
      "source": [
        "# uniform intensity distribution\n",
        "def classical_input(n_bins) :\n",
        "  input_state = np.ones(n_bins)\n",
        "  input_state /= np.sqrt(sum(input_state))\n",
        "  return input_state"
      ],
      "execution_count": 37,
      "outputs": []
    },
    {
      "cell_type": "code",
      "metadata": {
        "id": "1WIusf-RX--X",
        "outputId": "aeeeb79e-e9eb-4eb5-df28-ac08d6cc41bb",
        "colab": {
          "base_uri": "https://localhost:8080/"
        }
      },
      "source": [
        "# testing if input distribution is normalized to 1\n",
        "input_distribution = state_to_statistics(classical_input(n_bins))\n",
        "is_normalized = np.allclose(sum(input_distribution), 1)\n",
        "print('classical_input_distribution() returns a normalized distribution: ' + str(is_normalized))"
      ],
      "execution_count": 38,
      "outputs": [
        {
          "output_type": "stream",
          "text": [
            "classical_input_distribution() returns a normalized distribution: True\n"
          ],
          "name": "stdout"
        }
      ]
    },
    {
      "cell_type": "code",
      "metadata": {
        "id": "fM-ceUtuX--a",
        "outputId": "dd21a557-1b95-419d-adf4-9ab6a0af0419",
        "colab": {
          "base_uri": "https://localhost:8080/",
          "height": 299
        }
      },
      "source": [
        "# plotting the input intensities.\n",
        "fig, ax = plt.subplots()\n",
        "rects = ax.bar(np.arange(0, n_bins), input_distribution)\n",
        "plt.title(\"intensity input distribtion of the CFP\")\n",
        "plt.xlabel('frequency bin $r$')\n",
        "plt.ylabel('intensity $|\\\\alpha_{r}|^2$ [norm.]')\n",
        "plt.show()"
      ],
      "execution_count": 39,
      "outputs": [
        {
          "output_type": "display_data",
          "data": {
            "image/png": "[encoded data removed]",
            "text/plain": [
              "<Figure size 432x288 with 1 Axes>"
            ]
          },
          "metadata": {
            "tags": [],
            "needs_background": "light"
          }
        }
      ]
    },
    {
      "cell_type": "code",
      "metadata": {
        "id": "K_zx_HJMX--e"
      },
      "source": [
        "def classical_output(parameters, mod_depth, n_bins) :\n",
        "  parameters_ps, parameters_em = unpack(parameters, mod_depth)\n",
        "  V = unitaryV(parameters_ps, parameters_em)\n",
        "  output_state = V @ classical_input(n_bins)\n",
        "  return output_state"
      ],
      "execution_count": 43,
      "outputs": []
    },
    {
      "cell_type": "code",
      "metadata": {
        "id": "qknGnbkDwZl_"
      },
      "source": [
        "def costfunction(parameters) :\n",
        "  cost = 0\n",
        "  actual = state_to_statistics(classical_output(parameters, mod_depth, n_bins))\n",
        "  target = gaussian()\n",
        "  for i in range(0, n_bins) :\n",
        "    cost += (actual[i] - target[i])**2\n",
        "  return cost"
      ],
      "execution_count": 44,
      "outputs": []
    },
    {
      "cell_type": "code",
      "metadata": {
        "id": "lZO3khguvmak"
      },
      "source": [
        "optimized_parameters = optimize_pso(costfunction, n_layers, n_bins, mod_depth)"
      ],
      "execution_count": null,
      "outputs": []
    },
    {
      "cell_type": "code",
      "metadata": {
        "id": "VfTgQYcIRsGY",
        "outputId": "0e2afc89-7301-42c5-a749-8ddbcc51d5dd",
        "colab": {
          "base_uri": "https://localhost:8080/"
        }
      },
      "source": [
        "# testing if the output distribution is normalized to 1\n",
        "output_distribution = state_to_statistics(classical_output(optimized_parameters[0].X, mod_depth, n_bins))\n",
        "is_normalized = np.allclose(sum(output_distribution), 1)\n",
        "print('classical_input_distribution() returns a normalized distribution: ' + str(is_normalized))"
      ],
      "execution_count": 47,
      "outputs": [
        {
          "output_type": "stream",
          "text": [
            "classical_input_distribution() returns a normalized distribution: True\n"
          ],
          "name": "stdout"
        }
      ]
    },
    {
      "cell_type": "code",
      "metadata": {
        "id": "HX3p5jTVqg5C",
        "outputId": "e082fc29-b8f2-4111-b724-191f5b0ece1b",
        "colab": {
          "base_uri": "https://localhost:8080/",
          "height": 299
        }
      },
      "source": [
        "# plotting the output intensities.\n",
        "fig, ax = plt.subplots()\n",
        "rects = ax.bar(np.arange(0, n_bins), output_distribution)\n",
        "plt.title(\"intensity output distribtion of the CFP\")\n",
        "plt.xlabel('frequency bin $r$')\n",
        "plt.ylabel('intensity $|\\\\alpha_{r}|^2$ [norm.]')\n",
        "plt.show()\n"
      ],
      "execution_count": 48,
      "outputs": [
        {
          "output_type": "display_data",
          "data": {
            "image/png": "[encoded data removed]",
            "text/plain": [
              "<Figure size 432x288 with 1 Axes>"
            ]
          },
          "metadata": {
            "tags": [],
            "needs_background": "light"
          }
        }
      ]
    },
    {
      "cell_type": "markdown",
      "metadata": {
        "id": "6CUTSwT-Fo6e"
      },
      "source": [
        "**Future research:** Yet, we have considered states at the border between quantum and classical regime, i.e. coherent states. What happens if we feed the CFP with other \"classical\" states of light that show lower degrees of coherence? This question seems especially important if we want to quantify the robustness of our device against thermal noise and decoherence. Future investigation could involve mixtures of coherent states $\\rho = \\frac{1}{2}(\\ket{\\alpha} \\bra{\\alpha} + \\ket{\\beta} \\bra{\\beta})$ ($\\alpha \\neq \\beta$) as well as partially thermalized coherent states."
      ]
    },
    {
      "cell_type": "markdown",
      "metadata": {
        "id": "JpzFy1rwield"
      },
      "source": [
        "# Statistical Evaluation"
      ]
    },
    {
      "cell_type": "code",
      "metadata": {
        "id": "HSpKfhtyw1U5"
      },
      "source": [
        "# results for QFP with one photon"
      ],
      "execution_count": null,
      "outputs": []
    },
    {
      "cell_type": "code",
      "metadata": {
        "id": "yS-o6KQFw7IY"
      },
      "source": [
        "# results for QFP with two photons"
      ],
      "execution_count": null,
      "outputs": []
    },
    {
      "cell_type": "code",
      "metadata": {
        "id": "GXBPzSmew_Vp"
      },
      "source": [
        "# results for CFP with coherent states"
      ],
      "execution_count": null,
      "outputs": []
    }
  ]
}
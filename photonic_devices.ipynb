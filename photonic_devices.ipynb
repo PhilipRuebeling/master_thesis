{
  "nbformat": 4,
  "nbformat_minor": 0,
  "metadata": {
    "colab": {
      "name": "photonic_devices.ipynb",
      "provenance": [],
      "collapsed_sections": [],
      "toc_visible": true,
      "authorship_tag": "ABX9TyOa59aHq8oHUXQKD9suYV8/",
      "include_colab_link": true
    },
    "kernelspec": {
      "name": "python3",
      "display_name": "Python 3"
    }
  },
  "cells": [
    {
      "cell_type": "markdown",
      "metadata": {
        "id": "view-in-github",
        "colab_type": "text"
      },
      "source": [
        "<a href=\"https://colab.research.google.com/github/PhilipRuebeling/master_thesis/blob/main/photonic_devices.ipynb\" target=\"_parent\"><img src=\"https://colab.research.google.com/assets/colab-badge.svg\" alt=\"Open In Colab\"/></a>"
      ]
    },
    {
      "cell_type": "markdown",
      "metadata": {
        "id": "2CNaETzk-Ubt"
      },
      "source": [
        "$$\\newcommand{\\ket}[1]{\\left|{#1}\\right\\rangle}\\newcommand{\\bra}[1]{\\left\\langle\n",
        "{#1}\\right|}$$"
      ]
    },
    {
      "cell_type": "code",
      "metadata": {
        "id": "nxUQfF3g580A"
      },
      "source": [
        "%pip install fst-pso  # particle swarm optimization"
      ],
      "execution_count": null,
      "outputs": []
    },
    {
      "cell_type": "code",
      "metadata": {
        "id": "65drSZ8byEkA"
      },
      "source": [
        "import numpy as np\n",
        "import fstpso as fp\n",
        "\n",
        "import scipy.special"
      ],
      "execution_count": 8,
      "outputs": []
    },
    {
      "cell_type": "markdown",
      "metadata": {
        "id": "iP3LmPjvcSqO"
      },
      "source": [
        "# Quantum Frequency Processor (QFP) with coherent states"
      ]
    },
    {
      "cell_type": "markdown",
      "metadata": {
        "id": "MySYr1Of8OH4"
      },
      "source": [
        "We can use coherent states to operate our QFP. This can be easily achieved by noting, that for a coherent state $\\ket{\\alpha} = D(\\alpha)\\ket{vac}$, where the displacement operator is defined by $D(\\alpha) = \\exp (\\sum_{r} \\alpha_{r} a^{\\dagger}_{r} + \\alpha_{r}^{*} a_{r})$. When we consider the mode transformation\n",
        "\n",
        "$a^{\\dagger}_{r} \\rightarrow Sa^{\\dagger}_{r}S^{\\dagger} = \\sum_{q} (-ie^{-i\\vartheta})^{q} J_{q}(m)a^{\\dagger}_{r+q}$."
      ]
    },
    {
      "cell_type": "markdown",
      "metadata": {
        "id": "0C5d8qTOiOJ1"
      },
      "source": [
        ""
      ]
    },
    {
      "cell_type": "markdown",
      "metadata": {
        "id": "ldPh3EN1dcgA"
      },
      "source": [
        "parameters of the QFP"
      ]
    },
    {
      "cell_type": "code",
      "metadata": {
        "id": "E67mXC7pBiNm"
      },
      "source": [
        "global n_layers, n_bins = 4, 32  # topological parameters of the QFP"
      ],
      "execution_count": null,
      "outputs": []
    },
    {
      "cell_type": "code",
      "metadata": {
        "id": "kHuaPycgfo-V"
      },
      "source": [
        "def unitaryV(parameters_ps, parameters_em) :\n",
        "    V = np.eye(bins, dtype='complex64')\n",
        "    for layer in range(0, n_layers) :\n",
        "        U_em = em.unitaryFD(parameters_em[layer], mod_depth, n_bins)\n",
        "        U_ps = ps.unitaryFD(parameters_ps[layer], n_bins)\n",
        "        V = V @ U_ps @ U_eom\n",
        "    return V"
      ],
      "execution_count": null,
      "outputs": []
    },
    {
      "cell_type": "markdown",
      "metadata": {
        "id": "xb2raBRG1vcg"
      },
      "source": [
        "# Electro-optic modulator (EOM)\n"
      ]
    },
    {
      "cell_type": "markdown",
      "metadata": {
        "id": "uFXR5_FovCA6"
      },
      "source": [
        "The phase modulation of an [EOM](https://en.wikipedia.org/wiki/Electro-optic_modulator) is described by its driving voltage\n",
        "\n",
        "$a(t) = \\sum_{k=1}^{m} a_{k}\\sin(\\Omega_{k} t + \\varphi_{k})$\n",
        "\n",
        "Here we call $m = 1, 2, \\dots$ the modulation depth. When we concentrate on single-tone modulation we will set this to be equal to $1$."
      ]
    },
    {
      "cell_type": "code",
      "metadata": {
        "id": "fGP7hHC-Bce2"
      },
      "source": [
        "global mod_depth = 1     # modulation depth\n",
        "global a_min = 00.00     # minimal modulation amplitude\n",
        "global a_max = 10.00     # maximal modulation amplitude"
      ],
      "execution_count": 2,
      "outputs": []
    },
    {
      "cell_type": "markdown",
      "metadata": {
        "id": "fkpFn-EkBxqw"
      },
      "source": [
        "This defines the unitary in time domain (TD)."
      ]
    },
    {
      "cell_type": "code",
      "metadata": {
        "id": "a4U6CABXyWAB"
      },
      "source": [
        "def unitaryTD(parameters, mod_depth, n_bins) :\n",
        "    U = np.zeros(shape=(n_bins, n_bins), dtype=\"complex64\")\n",
        "    amplitude, phase = parameters\n",
        "    for i in range(0, d):\n",
        "        U[i][i] += np.exp(1j*(amplitude*np.sin(np.pi*i/d + phase)))\n",
        "    return U"
      ],
      "execution_count": 3,
      "outputs": []
    },
    {
      "cell_type": "code",
      "metadata": {
        "id": "iB9xmeQVMIyy",
        "outputId": "e04b006f-3843-4cb6-dd9c-65c32f3aade4",
        "colab": {
          "base_uri": "https://localhost:8080/",
          "height": 215
        }
      },
      "source": [
        "# testing if unitaryTD returns a unitary matrix\n",
        "U = np.around(unitaryTD(parameters, mod_depth, n_bins), decimals=9)\n",
        "is_unitary = np.allclose(np.eye(n_bins), U @ RT.adjoint(U))\n",
        "print('unitaryTD() returns a unitary matrix: ' + str(is_unitary))"
      ],
      "execution_count": 5,
      "outputs": [
        {
          "output_type": "error",
          "ename": "NameError",
          "evalue": "ignored",
          "traceback": [
            "\u001b[0;31m---------------------------------------------------------------------------\u001b[0m",
            "\u001b[0;31mNameError\u001b[0m                                 Traceback (most recent call last)",
            "\u001b[0;32m<ipython-input-5-4e5af4dd5378>\u001b[0m in \u001b[0;36m<module>\u001b[0;34m()\u001b[0m\n\u001b[1;32m      1\u001b[0m \u001b[0;31m# testing if unitaryTD returns a unitary matrix\u001b[0m\u001b[0;34m\u001b[0m\u001b[0;34m\u001b[0m\u001b[0;34m\u001b[0m\u001b[0m\n\u001b[0;32m----> 2\u001b[0;31m \u001b[0mU\u001b[0m \u001b[0;34m=\u001b[0m \u001b[0mnp\u001b[0m\u001b[0;34m.\u001b[0m\u001b[0maround\u001b[0m\u001b[0;34m(\u001b[0m\u001b[0munitaryTD\u001b[0m\u001b[0;34m(\u001b[0m\u001b[0mparameters\u001b[0m\u001b[0;34m,\u001b[0m \u001b[0mmod_depth\u001b[0m\u001b[0;34m,\u001b[0m \u001b[0mn_bins\u001b[0m\u001b[0;34m)\u001b[0m\u001b[0;34m,\u001b[0m \u001b[0mdecimals\u001b[0m\u001b[0;34m=\u001b[0m\u001b[0;36m9\u001b[0m\u001b[0;34m)\u001b[0m\u001b[0;34m\u001b[0m\u001b[0;34m\u001b[0m\u001b[0m\n\u001b[0m\u001b[1;32m      3\u001b[0m \u001b[0mis_unitary\u001b[0m \u001b[0;34m=\u001b[0m \u001b[0mnp\u001b[0m\u001b[0;34m.\u001b[0m\u001b[0mallclose\u001b[0m\u001b[0;34m(\u001b[0m\u001b[0mnp\u001b[0m\u001b[0;34m.\u001b[0m\u001b[0meye\u001b[0m\u001b[0;34m(\u001b[0m\u001b[0mn_bins\u001b[0m\u001b[0;34m)\u001b[0m\u001b[0;34m,\u001b[0m \u001b[0mU\u001b[0m \u001b[0;34m@\u001b[0m \u001b[0mRT\u001b[0m\u001b[0;34m.\u001b[0m\u001b[0madjoint\u001b[0m\u001b[0;34m(\u001b[0m\u001b[0mU\u001b[0m\u001b[0;34m)\u001b[0m\u001b[0;34m)\u001b[0m\u001b[0;34m\u001b[0m\u001b[0;34m\u001b[0m\u001b[0m\n\u001b[1;32m      4\u001b[0m \u001b[0mprint\u001b[0m\u001b[0;34m(\u001b[0m\u001b[0;34m'unitaryTD() returns a unitary matrix: '\u001b[0m \u001b[0;34m+\u001b[0m \u001b[0mstr\u001b[0m\u001b[0;34m(\u001b[0m\u001b[0mis_unitary\u001b[0m\u001b[0;34m)\u001b[0m\u001b[0;34m)\u001b[0m\u001b[0;34m\u001b[0m\u001b[0;34m\u001b[0m\u001b[0m\n",
            "\u001b[0;31mNameError\u001b[0m: name 'np' is not defined"
          ]
        }
      ]
    },
    {
      "cell_type": "markdown",
      "metadata": {
        "id": "14MNsDWCL9q_"
      },
      "source": [
        "Plotting the modulation signal"
      ]
    },
    {
      "cell_type": "code",
      "metadata": {
        "id": "awJa90yVL-KL"
      },
      "source": [
        "def plot_modulation(parameters, mod_depth, n_bins) :\n",
        "    amplitude, phase = parameters\n",
        "    t = np.arange(0, 10*n_bins)\n",
        "    s = np.around(amplitude*np.sin(np.pi*t/n_bins + phase), decimals=9)\n",
        "    plt.title('modulation signal ot the EOM in TD')\n",
        "    plt.plot(t/n_bins, s)\n",
        "    plt.xlabel('time [norm.]')\n",
        "    plt.ylabel('driving voltage [arb.]')\n",
        "    plt.show()\n",
        "    plt.close()\n",
        "    pass"
      ],
      "execution_count": null,
      "outputs": []
    },
    {
      "cell_type": "code",
      "metadata": {
        "id": "Da64qYgpMwon"
      },
      "source": [
        "plot_modulation(parameters, mod_depth, n_bins)"
      ],
      "execution_count": null,
      "outputs": []
    },
    {
      "cell_type": "markdown",
      "metadata": {
        "id": "wHjhol11BRTd"
      },
      "source": [
        "Here is the corresponding unitary in frequency domain (FD)."
      ]
    },
    {
      "cell_type": "code",
      "metadata": {
        "id": "5_9wq2CaBNTY"
      },
      "source": [
        "def unitaryFD(parameters, mod_depth, n_bins) :\n",
        "    F = dft(n_bins)/np.sqrt(n_bins)\n",
        "    U = unitaryTD(parameters, mod_depth, n_bins) #doesn't involve yet.\n",
        "    return F @ U @ RT.adjoint(F)"
      ],
      "execution_count": null,
      "outputs": []
    },
    {
      "cell_type": "code",
      "metadata": {
        "id": "GFLm7gyYDpEX"
      },
      "source": [
        "def besselFD(parameters, n_bins, f=0.42) :\n",
        "    U = np.zeros(shape=(n_bins, n_bins), dtype='complex64')\n",
        "    amplitude, phase = parameters\n",
        "    for i in range(0, d) :\n",
        "        for j in range(0, d) :\n",
        "            if(np.abs(i-j) <= math.ceil(amplitude+2)) :\n",
        "                U[i][j] = special.jv(i-j, f*amplitude)*(-1j*np.exp(-1j*phase))**(i-j)\n",
        "    return U"
      ],
      "execution_count": null,
      "outputs": []
    },
    {
      "cell_type": "markdown",
      "metadata": {
        "id": "kG_9gATF45gF"
      },
      "source": [
        "# Phase Shaper (PS)\n",
        "\n"
      ]
    },
    {
      "cell_type": "code",
      "metadata": {
        "id": "JnXb2ViIEcoK"
      },
      "source": [
        "def unitaryFD(parameters, n_bins) :\n",
        "    U = np.array(np.zeros(shape=(n_bins, n_bins)), dtype='complex64')\n",
        "    for i in range(0, n_bins):\n",
        "        U[i][i] = np.exp(1j*theta[i])\n",
        "    return U"
      ],
      "execution_count": 10,
      "outputs": []
    },
    {
      "cell_type": "code",
      "metadata": {
        "id": "0T5NFTDBwqQd"
      },
      "source": [
        "# testing if unitaryFD returns a unitary matrix\n",
        "U = np.around(unitaryFD(parameters, n_bins), decimals=9)\n",
        "is_unitary = np.allclose(np.eye(n_bins), U @ RT.adjoint(U))\n",
        "print('unitaryFD() returns a unitary matrix: ' + str(is_unitary))"
      ],
      "execution_count": null,
      "outputs": []
    },
    {
      "cell_type": "markdown",
      "metadata": {
        "id": "1oZ2xFczLnhJ"
      },
      "source": [
        "# BAS22"
      ]
    },
    {
      "cell_type": "markdown",
      "metadata": {
        "id": "zOhjEV84weKs"
      },
      "source": [
        "BAS patterns\n"
      ]
    },
    {
      "cell_type": "code",
      "metadata": {
        "id": "MlqVW7NBLwFW"
      },
      "source": [
        ""
      ],
      "execution_count": null,
      "outputs": []
    },
    {
      "cell_type": "markdown",
      "metadata": {
        "id": "hoItX-fKt7ZP"
      },
      "source": [
        "# Particle Swarm Optimization (PSO)"
      ]
    },
    {
      "cell_type": "code",
      "metadata": {
        "id": "E0LwJoJLuoHQ"
      },
      "source": [
        "swarm_size = 100    # number of particles used in the PSO\n",
        "iterations = 100    # number of iterations in the PSO "
      ],
      "execution_count": null,
      "outputs": []
    },
    {
      "cell_type": "code",
      "metadata": {
        "id": "pB4WE26BuS8-"
      },
      "source": [
        "def optimize_circuit_fuzzypso(cost_function, search_space) :\n",
        "  FP = fp.FuzzyPSO()\n",
        "  FP.set_search_space(search_space)\n",
        "  FP.set_fitness(cost_function)  \n",
        "  FP.set_swarm_size(swarm_size)\n",
        "  best_solution, fitness = FP.solve_with_fstpso(max_iter=iterations)\n",
        "  return [best_solution, fitness]"
      ],
      "execution_count": null,
      "outputs": []
    },
    {
      "cell_type": "code",
      "metadata": {
        "id": "woANEIllvLfc"
      },
      "source": [
        "def setupSearchSpace(a_min, a_max) :\n",
        "    phase_range, amplitude_range = [0, 2*np.pi], [a_min, a_max]\n",
        "    search_space = []\n",
        "    for i in range(0, layers*n_bins) :\n",
        "        search_space.append(phase_range)\n",
        "    for i in range(0, layers*mod_depth) :\n",
        "        search_space.append(amplitude_range)\n",
        "        search_space.append(phase_range)\n",
        "    return search_space"
      ],
      "execution_count": null,
      "outputs": []
    },
    {
      "cell_type": "code",
      "metadata": {
        "id": "tKKfDYfHubiS"
      },
      "source": [
        "search_space = fp.setupSearchSpace(a_min, a_max)"
      ],
      "execution_count": null,
      "outputs": []
    }
  ]
}